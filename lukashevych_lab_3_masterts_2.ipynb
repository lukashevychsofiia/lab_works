{
 "cells": [
  {
   "cell_type": "markdown",
   "id": "70ec3c1c",
   "metadata": {},
   "source": [
    "#### У даних присутня колонка Category та колонка Message. Category має в собі значення spam та ham, де spam – небажані повідомлення, ham – бажані повідомлення (у даному датасеті частина ham повина б бути заблокована та відправлена в спам після кількості незензурної лексики, але вже є факт, що це не рекламні пропозиції, тому не є спамом у нашому контексті). \n",
    "#### У даній лабораторній роботі основні кроки – це натренерувати embedding, створити рекурентну нейронну мережу, спробувати покращити результати різними способами, проаналізувати процес навчання та вплив (його відсутність) від покращень"
   ]
  },
  {
   "cell_type": "markdown",
   "id": "c3d028b2",
   "metadata": {},
   "source": [
    "#### блок з потрібними imports"
   ]
  },
  {
   "cell_type": "code",
   "execution_count": 2,
   "id": "8fe23a1c",
   "metadata": {},
   "outputs": [],
   "source": [
    "import pandas as pd\n",
    "from sklearn.model_selection import train_test_split\n",
    "from imblearn.over_sampling import SMOTE\n",
    "from nltk import download\n",
    "from string import punctuation\n",
    "from nltk.tokenize import word_tokenize\n",
    "from nltk.corpus import stopwords\n",
    "from nltk.stem import WordNetLemmatizer\n",
    "import numpy as np\n",
    "from collections import Counter, defaultdict \n",
    "import torch\n",
    "import torch.nn as nn\n",
    "import torch.nn.functional as F\n",
    "import torch.optim as optim\n",
    "import matplotlib.pyplot as plt\n",
    "%matplotlib inline\n",
    "from sklearn.metrics import classification_report\n",
    "from sklearn.metrics import accuracy_score\n",
    "from sklearn.manifold import TSNE\n",
    "from gensim.models import Word2Vec, KeyedVectors\n",
    "from ast import literal_eval"
   ]
  },
  {
   "cell_type": "markdown",
   "id": "88761306",
   "metadata": {},
   "source": [
    "### Підготовка даних для входу в мережу"
   ]
  },
  {
   "cell_type": "markdown",
   "id": "99c488a2",
   "metadata": {},
   "source": [
    "#### Завантажимо дані по спам повідомленням (SPAM text message 20170820 - Data.csv)"
   ]
  },
  {
   "cell_type": "code",
   "execution_count": 3,
   "id": "6faeef73",
   "metadata": {},
   "outputs": [],
   "source": [
    "df = pd.read_csv ('/Users/sofiialukashevych/Desktop/masters 2nd year/SPAM text message 20170820 - Data.csv')"
   ]
  },
  {
   "cell_type": "code",
   "execution_count": 52,
   "id": "a0d8491b",
   "metadata": {},
   "outputs": [
    {
     "data": {
      "text/html": [
       "<div>\n",
       "<style scoped>\n",
       "    .dataframe tbody tr th:only-of-type {\n",
       "        vertical-align: middle;\n",
       "    }\n",
       "\n",
       "    .dataframe tbody tr th {\n",
       "        vertical-align: top;\n",
       "    }\n",
       "\n",
       "    .dataframe thead th {\n",
       "        text-align: right;\n",
       "    }\n",
       "</style>\n",
       "<table border=\"1\" class=\"dataframe\">\n",
       "  <thead>\n",
       "    <tr style=\"text-align: right;\">\n",
       "      <th></th>\n",
       "      <th>Category</th>\n",
       "      <th>Message</th>\n",
       "    </tr>\n",
       "  </thead>\n",
       "  <tbody>\n",
       "    <tr>\n",
       "      <th>0</th>\n",
       "      <td>ham</td>\n",
       "      <td>Go until jurong point, crazy.. Available only ...</td>\n",
       "    </tr>\n",
       "    <tr>\n",
       "      <th>1</th>\n",
       "      <td>ham</td>\n",
       "      <td>Ok lar... Joking wif u oni...</td>\n",
       "    </tr>\n",
       "    <tr>\n",
       "      <th>2</th>\n",
       "      <td>spam</td>\n",
       "      <td>Free entry in 2 a wkly comp to win FA Cup fina...</td>\n",
       "    </tr>\n",
       "    <tr>\n",
       "      <th>3</th>\n",
       "      <td>ham</td>\n",
       "      <td>U dun say so early hor... U c already then say...</td>\n",
       "    </tr>\n",
       "    <tr>\n",
       "      <th>4</th>\n",
       "      <td>ham</td>\n",
       "      <td>Nah I don't think he goes to usf, he lives aro...</td>\n",
       "    </tr>\n",
       "    <tr>\n",
       "      <th>...</th>\n",
       "      <td>...</td>\n",
       "      <td>...</td>\n",
       "    </tr>\n",
       "    <tr>\n",
       "      <th>5567</th>\n",
       "      <td>spam</td>\n",
       "      <td>This is the 2nd time we have tried 2 contact u...</td>\n",
       "    </tr>\n",
       "    <tr>\n",
       "      <th>5568</th>\n",
       "      <td>ham</td>\n",
       "      <td>Will ü b going to esplanade fr home?</td>\n",
       "    </tr>\n",
       "    <tr>\n",
       "      <th>5569</th>\n",
       "      <td>ham</td>\n",
       "      <td>Pity, * was in mood for that. So...any other s...</td>\n",
       "    </tr>\n",
       "    <tr>\n",
       "      <th>5570</th>\n",
       "      <td>ham</td>\n",
       "      <td>The guy did some bitching but I acted like i'd...</td>\n",
       "    </tr>\n",
       "    <tr>\n",
       "      <th>5571</th>\n",
       "      <td>ham</td>\n",
       "      <td>Rofl. Its true to its name</td>\n",
       "    </tr>\n",
       "  </tbody>\n",
       "</table>\n",
       "<p>5572 rows × 2 columns</p>\n",
       "</div>"
      ],
      "text/plain": [
       "     Category                                            Message\n",
       "0         ham  Go until jurong point, crazy.. Available only ...\n",
       "1         ham                      Ok lar... Joking wif u oni...\n",
       "2        spam  Free entry in 2 a wkly comp to win FA Cup fina...\n",
       "3         ham  U dun say so early hor... U c already then say...\n",
       "4         ham  Nah I don't think he goes to usf, he lives aro...\n",
       "...       ...                                                ...\n",
       "5567     spam  This is the 2nd time we have tried 2 contact u...\n",
       "5568      ham               Will ü b going to esplanade fr home?\n",
       "5569      ham  Pity, * was in mood for that. So...any other s...\n",
       "5570      ham  The guy did some bitching but I acted like i'd...\n",
       "5571      ham                         Rofl. Its true to its name\n",
       "\n",
       "[5572 rows x 2 columns]"
      ]
     },
     "metadata": {},
     "output_type": "display_data"
    }
   ],
   "source": [
    "display(df)"
   ]
  },
  {
   "cell_type": "code",
   "execution_count": 4,
   "id": "7ed335c5",
   "metadata": {},
   "outputs": [
    {
     "name": "stdout",
     "output_type": "stream",
     "text": [
      "Ham count: 4825\n",
      "Spam count: 747\n"
     ]
    }
   ],
   "source": [
    "category_counts = df['Category'].value_counts()\n",
    "\n",
    "ham_count = category_counts.get('ham', 0)\n",
    "spam_count = category_counts.get('spam', 0)\n",
    "\n",
    "print('Ham count:', ham_count)\n",
    "print('Spam count:', spam_count)"
   ]
  },
  {
   "cell_type": "markdown",
   "id": "d322575c",
   "metadata": {},
   "source": [
    "Закодуємо категоріальні дані, де smap буде 1, ham – 0."
   ]
  },
  {
   "cell_type": "code",
   "execution_count": 5,
   "id": "73190420",
   "metadata": {},
   "outputs": [],
   "source": [
    "category_mapping = {'ham': 0, 'spam': 1}"
   ]
  },
  {
   "cell_type": "code",
   "execution_count": 6,
   "id": "3a207450",
   "metadata": {},
   "outputs": [],
   "source": [
    "df['Category'] = df['Category'].map(category_mapping)"
   ]
  },
  {
   "cell_type": "code",
   "execution_count": 56,
   "id": "6ca5b2c8",
   "metadata": {},
   "outputs": [
    {
     "data": {
      "text/html": [
       "<div>\n",
       "<style scoped>\n",
       "    .dataframe tbody tr th:only-of-type {\n",
       "        vertical-align: middle;\n",
       "    }\n",
       "\n",
       "    .dataframe tbody tr th {\n",
       "        vertical-align: top;\n",
       "    }\n",
       "\n",
       "    .dataframe thead th {\n",
       "        text-align: right;\n",
       "    }\n",
       "</style>\n",
       "<table border=\"1\" class=\"dataframe\">\n",
       "  <thead>\n",
       "    <tr style=\"text-align: right;\">\n",
       "      <th></th>\n",
       "      <th>Category</th>\n",
       "      <th>Message</th>\n",
       "    </tr>\n",
       "  </thead>\n",
       "  <tbody>\n",
       "    <tr>\n",
       "      <th>0</th>\n",
       "      <td>0</td>\n",
       "      <td>Go until jurong point, crazy.. Available only ...</td>\n",
       "    </tr>\n",
       "    <tr>\n",
       "      <th>1</th>\n",
       "      <td>0</td>\n",
       "      <td>Ok lar... Joking wif u oni...</td>\n",
       "    </tr>\n",
       "    <tr>\n",
       "      <th>2</th>\n",
       "      <td>1</td>\n",
       "      <td>Free entry in 2 a wkly comp to win FA Cup fina...</td>\n",
       "    </tr>\n",
       "    <tr>\n",
       "      <th>3</th>\n",
       "      <td>0</td>\n",
       "      <td>U dun say so early hor... U c already then say...</td>\n",
       "    </tr>\n",
       "    <tr>\n",
       "      <th>4</th>\n",
       "      <td>0</td>\n",
       "      <td>Nah I don't think he goes to usf, he lives aro...</td>\n",
       "    </tr>\n",
       "    <tr>\n",
       "      <th>...</th>\n",
       "      <td>...</td>\n",
       "      <td>...</td>\n",
       "    </tr>\n",
       "    <tr>\n",
       "      <th>5567</th>\n",
       "      <td>1</td>\n",
       "      <td>This is the 2nd time we have tried 2 contact u...</td>\n",
       "    </tr>\n",
       "    <tr>\n",
       "      <th>5568</th>\n",
       "      <td>0</td>\n",
       "      <td>Will ü b going to esplanade fr home?</td>\n",
       "    </tr>\n",
       "    <tr>\n",
       "      <th>5569</th>\n",
       "      <td>0</td>\n",
       "      <td>Pity, * was in mood for that. So...any other s...</td>\n",
       "    </tr>\n",
       "    <tr>\n",
       "      <th>5570</th>\n",
       "      <td>0</td>\n",
       "      <td>The guy did some bitching but I acted like i'd...</td>\n",
       "    </tr>\n",
       "    <tr>\n",
       "      <th>5571</th>\n",
       "      <td>0</td>\n",
       "      <td>Rofl. Its true to its name</td>\n",
       "    </tr>\n",
       "  </tbody>\n",
       "</table>\n",
       "<p>5572 rows × 2 columns</p>\n",
       "</div>"
      ],
      "text/plain": [
       "      Category                                            Message\n",
       "0            0  Go until jurong point, crazy.. Available only ...\n",
       "1            0                      Ok lar... Joking wif u oni...\n",
       "2            1  Free entry in 2 a wkly comp to win FA Cup fina...\n",
       "3            0  U dun say so early hor... U c already then say...\n",
       "4            0  Nah I don't think he goes to usf, he lives aro...\n",
       "...        ...                                                ...\n",
       "5567         1  This is the 2nd time we have tried 2 contact u...\n",
       "5568         0               Will ü b going to esplanade fr home?\n",
       "5569         0  Pity, * was in mood for that. So...any other s...\n",
       "5570         0  The guy did some bitching but I acted like i'd...\n",
       "5571         0                         Rofl. Its true to its name\n",
       "\n",
       "[5572 rows x 2 columns]"
      ]
     },
     "metadata": {},
     "output_type": "display_data"
    }
   ],
   "source": [
    "display(df)"
   ]
  },
  {
   "cell_type": "code",
   "execution_count": 7,
   "id": "8fd7e778",
   "metadata": {},
   "outputs": [
    {
     "name": "stdout",
     "output_type": "stream",
     "text": [
      "Ham count: 4825\n",
      "Spam count: 747\n"
     ]
    }
   ],
   "source": [
    "category_counts = df['Category'].value_counts()\n",
    "\n",
    "ham_count = category_counts.get(0, 0)\n",
    "spam_count = category_counts.get(1, 0)\n",
    "\n",
    "print('Ham count:', ham_count)\n",
    "print('Spam count:', spam_count)"
   ]
  },
  {
   "cell_type": "markdown",
   "id": "1d75b551",
   "metadata": {},
   "source": [
    "Спробуємо прибрати: слова, що мають мало впливу, пунктуацію. \n",
    "Також зробимо кожне повідомлення масивом слів."
   ]
  },
  {
   "cell_type": "code",
   "execution_count": 8,
   "id": "b1238bb9",
   "metadata": {},
   "outputs": [
    {
     "name": "stderr",
     "output_type": "stream",
     "text": [
      "[nltk_data] Downloading package omw-1.4 to\n",
      "[nltk_data]     /Users/sofiialukashevych/nltk_data...\n",
      "[nltk_data]   Package omw-1.4 is already up-to-date!\n",
      "[nltk_data] Downloading package punkt to\n",
      "[nltk_data]     /Users/sofiialukashevych/nltk_data...\n",
      "[nltk_data]   Package punkt is already up-to-date!\n",
      "[nltk_data] Downloading package stopwords to\n",
      "[nltk_data]     /Users/sofiialukashevych/nltk_data...\n",
      "[nltk_data]   Package stopwords is already up-to-date!\n",
      "[nltk_data] Downloading package wordnet to\n",
      "[nltk_data]     /Users/sofiialukashevych/nltk_data...\n",
      "[nltk_data]   Package wordnet is already up-to-date!\n"
     ]
    }
   ],
   "source": [
    "for pkg in ['omw-1.4', 'punkt', 'stopwords', 'wordnet']:\n",
    "    download(pkg)"
   ]
  },
  {
   "cell_type": "code",
   "execution_count": 9,
   "id": "3aae94ea",
   "metadata": {},
   "outputs": [],
   "source": [
    "lemmatizer = WordNetLemmatizer() \n",
    "stop_words = set(stopwords.words('english'))"
   ]
  },
  {
   "cell_type": "markdown",
   "id": "d9c739d8",
   "metadata": {},
   "source": [
    "Для цього запишему функцію, яка токенезує слова, виявляє пунктуацію, лематизує (зводить до кореню) слова."
   ]
  },
  {
   "cell_type": "code",
   "execution_count": 10,
   "id": "0bd3f0be",
   "metadata": {},
   "outputs": [],
   "source": [
    "def preprocess_text(tokenizer, lemmatizer, stop_words, punctuation, text): \n",
    "    tokens = tokenizer(text.lower())\n",
    "    lemmas = [lemmatizer.lemmatize(token) for token in tokens]\n",
    "    return [token for token in lemmas if token not in stop_words and token not in punctuation]"
   ]
  },
  {
   "cell_type": "code",
   "execution_count": 11,
   "id": "c993dab7",
   "metadata": {},
   "outputs": [],
   "source": [
    "df['Message_modified'] = df['Message'].apply(\n",
    "    lambda x: preprocess_text(word_tokenize, lemmatizer, stop_words, punctuation, x)\n",
    ")"
   ]
  },
  {
   "cell_type": "code",
   "execution_count": 62,
   "id": "6a27ca27",
   "metadata": {},
   "outputs": [
    {
     "data": {
      "text/html": [
       "<div>\n",
       "<style scoped>\n",
       "    .dataframe tbody tr th:only-of-type {\n",
       "        vertical-align: middle;\n",
       "    }\n",
       "\n",
       "    .dataframe tbody tr th {\n",
       "        vertical-align: top;\n",
       "    }\n",
       "\n",
       "    .dataframe thead th {\n",
       "        text-align: right;\n",
       "    }\n",
       "</style>\n",
       "<table border=\"1\" class=\"dataframe\">\n",
       "  <thead>\n",
       "    <tr style=\"text-align: right;\">\n",
       "      <th></th>\n",
       "      <th>Category</th>\n",
       "      <th>Message</th>\n",
       "      <th>Message_modified</th>\n",
       "    </tr>\n",
       "  </thead>\n",
       "  <tbody>\n",
       "    <tr>\n",
       "      <th>0</th>\n",
       "      <td>0</td>\n",
       "      <td>Go until jurong point, crazy.. Available only ...</td>\n",
       "      <td>[go, jurong, point, crazy, .., available, bugi...</td>\n",
       "    </tr>\n",
       "    <tr>\n",
       "      <th>1</th>\n",
       "      <td>0</td>\n",
       "      <td>Ok lar... Joking wif u oni...</td>\n",
       "      <td>[ok, lar, ..., joking, wif, u, oni, ...]</td>\n",
       "    </tr>\n",
       "    <tr>\n",
       "      <th>2</th>\n",
       "      <td>1</td>\n",
       "      <td>Free entry in 2 a wkly comp to win FA Cup fina...</td>\n",
       "      <td>[free, entry, 2, wkly, comp, win, fa, cup, fin...</td>\n",
       "    </tr>\n",
       "    <tr>\n",
       "      <th>3</th>\n",
       "      <td>0</td>\n",
       "      <td>U dun say so early hor... U c already then say...</td>\n",
       "      <td>[u, dun, say, early, hor, ..., u, c, already, ...</td>\n",
       "    </tr>\n",
       "    <tr>\n",
       "      <th>4</th>\n",
       "      <td>0</td>\n",
       "      <td>Nah I don't think he goes to usf, he lives aro...</td>\n",
       "      <td>[nah, n't, think, go, usf, life, around, though]</td>\n",
       "    </tr>\n",
       "    <tr>\n",
       "      <th>...</th>\n",
       "      <td>...</td>\n",
       "      <td>...</td>\n",
       "      <td>...</td>\n",
       "    </tr>\n",
       "    <tr>\n",
       "      <th>5567</th>\n",
       "      <td>1</td>\n",
       "      <td>This is the 2nd time we have tried 2 contact u...</td>\n",
       "      <td>[2nd, time, tried, 2, contact, u., u, £750, po...</td>\n",
       "    </tr>\n",
       "    <tr>\n",
       "      <th>5568</th>\n",
       "      <td>0</td>\n",
       "      <td>Will ü b going to esplanade fr home?</td>\n",
       "      <td>[ü, b, going, esplanade, fr, home]</td>\n",
       "    </tr>\n",
       "    <tr>\n",
       "      <th>5569</th>\n",
       "      <td>0</td>\n",
       "      <td>Pity, * was in mood for that. So...any other s...</td>\n",
       "      <td>[pity, wa, mood, ..., suggestion]</td>\n",
       "    </tr>\n",
       "    <tr>\n",
       "      <th>5570</th>\n",
       "      <td>0</td>\n",
       "      <td>The guy did some bitching but I acted like i'd...</td>\n",
       "      <td>[guy, bitching, acted, like, 'd, interested, b...</td>\n",
       "    </tr>\n",
       "    <tr>\n",
       "      <th>5571</th>\n",
       "      <td>0</td>\n",
       "      <td>Rofl. Its true to its name</td>\n",
       "      <td>[rofl, true, name]</td>\n",
       "    </tr>\n",
       "  </tbody>\n",
       "</table>\n",
       "<p>5572 rows × 3 columns</p>\n",
       "</div>"
      ],
      "text/plain": [
       "      Category                                            Message  \\\n",
       "0            0  Go until jurong point, crazy.. Available only ...   \n",
       "1            0                      Ok lar... Joking wif u oni...   \n",
       "2            1  Free entry in 2 a wkly comp to win FA Cup fina...   \n",
       "3            0  U dun say so early hor... U c already then say...   \n",
       "4            0  Nah I don't think he goes to usf, he lives aro...   \n",
       "...        ...                                                ...   \n",
       "5567         1  This is the 2nd time we have tried 2 contact u...   \n",
       "5568         0               Will ü b going to esplanade fr home?   \n",
       "5569         0  Pity, * was in mood for that. So...any other s...   \n",
       "5570         0  The guy did some bitching but I acted like i'd...   \n",
       "5571         0                         Rofl. Its true to its name   \n",
       "\n",
       "                                       Message_modified  \n",
       "0     [go, jurong, point, crazy, .., available, bugi...  \n",
       "1              [ok, lar, ..., joking, wif, u, oni, ...]  \n",
       "2     [free, entry, 2, wkly, comp, win, fa, cup, fin...  \n",
       "3     [u, dun, say, early, hor, ..., u, c, already, ...  \n",
       "4      [nah, n't, think, go, usf, life, around, though]  \n",
       "...                                                 ...  \n",
       "5567  [2nd, time, tried, 2, contact, u., u, £750, po...  \n",
       "5568                 [ü, b, going, esplanade, fr, home]  \n",
       "5569                  [pity, wa, mood, ..., suggestion]  \n",
       "5570  [guy, bitching, acted, like, 'd, interested, b...  \n",
       "5571                                 [rofl, true, name]  \n",
       "\n",
       "[5572 rows x 3 columns]"
      ]
     },
     "metadata": {},
     "output_type": "display_data"
    }
   ],
   "source": [
    "display(df)"
   ]
  },
  {
   "cell_type": "markdown",
   "id": "34f2091f",
   "metadata": {},
   "source": [
    "Розібʼємо дані на тестові та тренувальні."
   ]
  },
  {
   "cell_type": "code",
   "execution_count": 12,
   "id": "0ece274c",
   "metadata": {},
   "outputs": [
    {
     "data": {
      "text/plain": [
       "4825"
      ]
     },
     "execution_count": 12,
     "metadata": {},
     "output_type": "execute_result"
    }
   ],
   "source": [
    "n_ham = len(df[df['Category'] == 0])\n",
    "n_ham"
   ]
  },
  {
   "cell_type": "code",
   "execution_count": 13,
   "id": "fae197c6",
   "metadata": {},
   "outputs": [
    {
     "data": {
      "text/plain": [
       "747"
      ]
     },
     "execution_count": 13,
     "metadata": {},
     "output_type": "execute_result"
    }
   ],
   "source": [
    "n_spam = len(df[df['Category'] == 1])\n",
    "n_spam"
   ]
  },
  {
   "cell_type": "markdown",
   "id": "040f079d",
   "metadata": {},
   "source": [
    "виправимо inbalance між spam та ham за допомогою ресемплінгу.\n",
    "спроба використати class weights підхід не завершилась успіхом через технічні проблеми мого компʼютера, почали зʼявлятися ерор, повʼязані з оболонкою (zshell).\n",
    "було обрано варіант undersampling, варто зазначити, що це є дуже грубий варіант виправлення такої ситуації, в ідеалі краще усе ж таки використати class weights підхід.\n",
    "але подивимось, до чого призведе такий вибір."
   ]
  },
  {
   "cell_type": "code",
   "execution_count": 14,
   "id": "c9e8f402",
   "metadata": {},
   "outputs": [
    {
     "name": "stdout",
     "output_type": "stream",
     "text": [
      "Undersampled Ham count: 747\n",
      "Undersampled Spam count: 747\n"
     ]
    }
   ],
   "source": [
    "n_spam_df = df[df['Category'] == 1]\n",
    "n_ham_df = df[df['Category'] == 0].sample(n=spam_count, random_state=42)\n",
    "\n",
    "\n",
    "undersampled_df = pd.concat([n_spam_df, n_ham_df])\n",
    "\n",
    "undersampled_df = undersampled_df.sample(frac=1, random_state=42).reset_index(drop=True)\n",
    "\n",
    "undersampled_category_counts = undersampled_df['Category'].value_counts()\n",
    "undersampled_ham_count = undersampled_category_counts.get(0, 0)\n",
    "undersampled_spam_count = undersampled_category_counts.get(1, 0)\n",
    "\n",
    "print('Undersampled Ham count:', undersampled_ham_count)\n",
    "print('Undersampled Spam count:', undersampled_spam_count)"
   ]
  },
  {
   "cell_type": "code",
   "execution_count": 119,
   "id": "a62d19dc",
   "metadata": {},
   "outputs": [
    {
     "data": {
      "text/html": [
       "<div>\n",
       "<style scoped>\n",
       "    .dataframe tbody tr th:only-of-type {\n",
       "        vertical-align: middle;\n",
       "    }\n",
       "\n",
       "    .dataframe tbody tr th {\n",
       "        vertical-align: top;\n",
       "    }\n",
       "\n",
       "    .dataframe thead th {\n",
       "        text-align: right;\n",
       "    }\n",
       "</style>\n",
       "<table border=\"1\" class=\"dataframe\">\n",
       "  <thead>\n",
       "    <tr style=\"text-align: right;\">\n",
       "      <th></th>\n",
       "      <th>Category</th>\n",
       "      <th>Message</th>\n",
       "      <th>Message_modified</th>\n",
       "    </tr>\n",
       "  </thead>\n",
       "  <tbody>\n",
       "    <tr>\n",
       "      <th>0</th>\n",
       "      <td>0</td>\n",
       "      <td>The evo. I just had to download flash. Jealous?</td>\n",
       "      <td>[evo, download, flash, jealous]</td>\n",
       "    </tr>\n",
       "    <tr>\n",
       "      <th>1</th>\n",
       "      <td>0</td>\n",
       "      <td>Hi Dear Call me its urgnt. I don't know whats ...</td>\n",
       "      <td>[hi, dear, call, urgnt, n't, know, whats, prob...</td>\n",
       "    </tr>\n",
       "    <tr>\n",
       "      <th>2</th>\n",
       "      <td>0</td>\n",
       "      <td>Full heat pa:-) i have applyed oil pa.</td>\n",
       "      <td>[full, heat, pa, applyed, oil, pa]</td>\n",
       "    </tr>\n",
       "    <tr>\n",
       "      <th>3</th>\n",
       "      <td>0</td>\n",
       "      <td>Gokila is talking with you aha:)</td>\n",
       "      <td>[gokila, talking, aha]</td>\n",
       "    </tr>\n",
       "    <tr>\n",
       "      <th>4</th>\n",
       "      <td>0</td>\n",
       "      <td>Dude u knw also telugu..thts gud..k, gud nyt..</td>\n",
       "      <td>[dude, u, knw, also, telugu, .., thts, gud, .....</td>\n",
       "    </tr>\n",
       "    <tr>\n",
       "      <th>...</th>\n",
       "      <td>...</td>\n",
       "      <td>...</td>\n",
       "      <td>...</td>\n",
       "    </tr>\n",
       "    <tr>\n",
       "      <th>1489</th>\n",
       "      <td>0</td>\n",
       "      <td>Ya srsly better than yi tho</td>\n",
       "      <td>[ya, srsly, better, yi, tho]</td>\n",
       "    </tr>\n",
       "    <tr>\n",
       "      <th>1490</th>\n",
       "      <td>0</td>\n",
       "      <td>I'm coming home 4 dinner.</td>\n",
       "      <td>['m, coming, home, 4, dinner]</td>\n",
       "    </tr>\n",
       "    <tr>\n",
       "      <th>1491</th>\n",
       "      <td>0</td>\n",
       "      <td>I'm there and I can see you, but you can't see...</td>\n",
       "      <td>['m, see, ca, n't, see, maybe, reboot, ym, see...</td>\n",
       "    </tr>\n",
       "    <tr>\n",
       "      <th>1492</th>\n",
       "      <td>0</td>\n",
       "      <td>Sent me ur email id soon</td>\n",
       "      <td>[sent, ur, email, id, soon]</td>\n",
       "    </tr>\n",
       "    <tr>\n",
       "      <th>1493</th>\n",
       "      <td>0</td>\n",
       "      <td>After completed degree. There is no use in joi...</td>\n",
       "      <td>[completed, degree, use, joining, finance]</td>\n",
       "    </tr>\n",
       "  </tbody>\n",
       "</table>\n",
       "<p>1494 rows × 3 columns</p>\n",
       "</div>"
      ],
      "text/plain": [
       "      Category                                            Message  \\\n",
       "0            0    The evo. I just had to download flash. Jealous?   \n",
       "1            0  Hi Dear Call me its urgnt. I don't know whats ...   \n",
       "2            0             Full heat pa:-) i have applyed oil pa.   \n",
       "3            0                   Gokila is talking with you aha:)   \n",
       "4            0     Dude u knw also telugu..thts gud..k, gud nyt..   \n",
       "...        ...                                                ...   \n",
       "1489         0                        Ya srsly better than yi tho   \n",
       "1490         0                          I'm coming home 4 dinner.   \n",
       "1491         0  I'm there and I can see you, but you can't see...   \n",
       "1492         0                           Sent me ur email id soon   \n",
       "1493         0  After completed degree. There is no use in joi...   \n",
       "\n",
       "                                       Message_modified  \n",
       "0                       [evo, download, flash, jealous]  \n",
       "1     [hi, dear, call, urgnt, n't, know, whats, prob...  \n",
       "2                    [full, heat, pa, applyed, oil, pa]  \n",
       "3                                [gokila, talking, aha]  \n",
       "4     [dude, u, knw, also, telugu, .., thts, gud, .....  \n",
       "...                                                 ...  \n",
       "1489                       [ya, srsly, better, yi, tho]  \n",
       "1490                      ['m, coming, home, 4, dinner]  \n",
       "1491  ['m, see, ca, n't, see, maybe, reboot, ym, see...  \n",
       "1492                        [sent, ur, email, id, soon]  \n",
       "1493         [completed, degree, use, joining, finance]  \n",
       "\n",
       "[1494 rows x 3 columns]"
      ]
     },
     "execution_count": 119,
     "metadata": {},
     "output_type": "execute_result"
    }
   ],
   "source": [
    "undersampled_df"
   ]
  },
  {
   "cell_type": "code",
   "execution_count": 15,
   "id": "458f5209",
   "metadata": {},
   "outputs": [
    {
     "data": {
      "text/plain": [
       "747"
      ]
     },
     "execution_count": 15,
     "metadata": {},
     "output_type": "execute_result"
    }
   ],
   "source": [
    "n_ham_new = len(undersampled_df[undersampled_df['Category'] == 0])\n",
    "n_ham_new"
   ]
  },
  {
   "cell_type": "code",
   "execution_count": 16,
   "id": "433311b2",
   "metadata": {},
   "outputs": [
    {
     "data": {
      "text/plain": [
       "747"
      ]
     },
     "execution_count": 16,
     "metadata": {},
     "output_type": "execute_result"
    }
   ],
   "source": [
    "n_spam_new = len(undersampled_df[undersampled_df['Category'] == 1])\n",
    "n_spam_new"
   ]
  },
  {
   "cell_type": "code",
   "execution_count": 17,
   "id": "f924d315",
   "metadata": {},
   "outputs": [
    {
     "data": {
      "text/plain": [
       "74"
      ]
     },
     "execution_count": 17,
     "metadata": {},
     "output_type": "execute_result"
    }
   ],
   "source": [
    "np.random.seed(0)\n",
    "n = n_ham_new\n",
    "n_test = n // 10\n",
    "n_test"
   ]
  },
  {
   "cell_type": "code",
   "execution_count": 18,
   "id": "23a51f64",
   "metadata": {},
   "outputs": [],
   "source": [
    "test_ham = np.random.choice(\n",
    "    np.arange(0, n_ham_new), size=(n_test // 2), replace=False\n",
    ")"
   ]
  },
  {
   "cell_type": "code",
   "execution_count": 19,
   "id": "c3d2ad82",
   "metadata": {},
   "outputs": [],
   "source": [
    "test_spam = np.random.choice(\n",
    "    n_ham_new + np.arange(0, n_spam_new), size=(n_test // 2), replace=False\n",
    ")"
   ]
  },
  {
   "cell_type": "code",
   "execution_count": 126,
   "id": "167553f4",
   "metadata": {},
   "outputs": [
    {
     "data": {
      "text/html": [
       "<div>\n",
       "<style scoped>\n",
       "    .dataframe tbody tr th:only-of-type {\n",
       "        vertical-align: middle;\n",
       "    }\n",
       "\n",
       "    .dataframe tbody tr th {\n",
       "        vertical-align: top;\n",
       "    }\n",
       "\n",
       "    .dataframe thead th {\n",
       "        text-align: right;\n",
       "    }\n",
       "</style>\n",
       "<table border=\"1\" class=\"dataframe\">\n",
       "  <thead>\n",
       "    <tr style=\"text-align: right;\">\n",
       "      <th></th>\n",
       "      <th>Message_modified</th>\n",
       "      <th>Category</th>\n",
       "    </tr>\n",
       "  </thead>\n",
       "  <tbody>\n",
       "    <tr>\n",
       "      <th>258</th>\n",
       "      <td>[tomorrow, onwards, eve, 6, 3, work]</td>\n",
       "      <td>0</td>\n",
       "    </tr>\n",
       "    <tr>\n",
       "      <th>521</th>\n",
       "      <td>[wylie, update, weed, dealer, carlos, went, fr...</td>\n",
       "      <td>0</td>\n",
       "    </tr>\n",
       "    <tr>\n",
       "      <th>14</th>\n",
       "      <td>[congrats, 1, year, special, cinema, pas, 2, c...</td>\n",
       "      <td>1</td>\n",
       "    </tr>\n",
       "    <tr>\n",
       "      <th>31</th>\n",
       "      <td>[wo, n't, believe, 's, true, 's, incredible, t...</td>\n",
       "      <td>1</td>\n",
       "    </tr>\n",
       "    <tr>\n",
       "      <th>505</th>\n",
       "      <td>[collect, valentine, 's, weekend, paris, inc, ...</td>\n",
       "      <td>1</td>\n",
       "    </tr>\n",
       "    <tr>\n",
       "      <th>79</th>\n",
       "      <td>[dear, voucher, holder, claim, week, offer, pc...</td>\n",
       "      <td>1</td>\n",
       "    </tr>\n",
       "    <tr>\n",
       "      <th>382</th>\n",
       "      <td>[g, say, never, answer, text, confirm/deny]</td>\n",
       "      <td>0</td>\n",
       "    </tr>\n",
       "    <tr>\n",
       "      <th>75</th>\n",
       "      <td>[want, new, nokia, 3510i, colour, phone, deliv...</td>\n",
       "      <td>1</td>\n",
       "    </tr>\n",
       "    <tr>\n",
       "      <th>471</th>\n",
       "      <td>[came, look, flat, seems, ok, 50, away, alot, ...</td>\n",
       "      <td>0</td>\n",
       "    </tr>\n",
       "    <tr>\n",
       "      <th>27</th>\n",
       "      <td>[r, giving, second, chance, rahul, dengra]</td>\n",
       "      <td>0</td>\n",
       "    </tr>\n",
       "    <tr>\n",
       "      <th>641</th>\n",
       "      <td>[like, shaking, booty, dance, floor]</td>\n",
       "      <td>0</td>\n",
       "    </tr>\n",
       "    <tr>\n",
       "      <th>367</th>\n",
       "      <td>[hey, boy, want, hot, xxx, pic, sent, direct, ...</td>\n",
       "      <td>1</td>\n",
       "    </tr>\n",
       "    <tr>\n",
       "      <th>583</th>\n",
       "      <td>[slaaaaave, must, summon, time, n't, wish, com...</td>\n",
       "      <td>0</td>\n",
       "    </tr>\n",
       "    <tr>\n",
       "      <th>522</th>\n",
       "      <td>[lol, ..., wa, busy]</td>\n",
       "      <td>0</td>\n",
       "    </tr>\n",
       "    <tr>\n",
       "      <th>40</th>\n",
       "      <td>[congrats, 2, mobile, 3g, videophones, r, call...</td>\n",
       "      <td>1</td>\n",
       "    </tr>\n",
       "    <tr>\n",
       "      <th>718</th>\n",
       "      <td>['ve, already, got, flaky, parent, it'snot, su...</td>\n",
       "      <td>0</td>\n",
       "    </tr>\n",
       "    <tr>\n",
       "      <th>283</th>\n",
       "      <td>[freemsg, feelin, kinda, lnly, hope, u, like, ...</td>\n",
       "      <td>1</td>\n",
       "    </tr>\n",
       "    <tr>\n",
       "      <th>457</th>\n",
       "      <td>[error]</td>\n",
       "      <td>1</td>\n",
       "    </tr>\n",
       "    <tr>\n",
       "      <th>385</th>\n",
       "      <td>[date, sunday]</td>\n",
       "      <td>0</td>\n",
       "    </tr>\n",
       "    <tr>\n",
       "      <th>113</th>\n",
       "      <td>[da, birthdate, certificate, april, real, date...</td>\n",
       "      <td>0</td>\n",
       "    </tr>\n",
       "    <tr>\n",
       "      <th>337</th>\n",
       "      <td>[n't, know, u, u, n't, know, send, chat, 86688...</td>\n",
       "      <td>1</td>\n",
       "    </tr>\n",
       "    <tr>\n",
       "      <th>250</th>\n",
       "      <td>[n't, know, thing, 's, wrong, everyso, often, ...</td>\n",
       "      <td>0</td>\n",
       "    </tr>\n",
       "    <tr>\n",
       "      <th>338</th>\n",
       "      <td>[delhi, chennai, still, silent]</td>\n",
       "      <td>0</td>\n",
       "    </tr>\n",
       "    <tr>\n",
       "      <th>230</th>\n",
       "      <td>[heard, u4, call, 4, rude, chat, private, line...</td>\n",
       "      <td>1</td>\n",
       "    </tr>\n",
       "    <tr>\n",
       "      <th>631</th>\n",
       "      <td>[n't, prize, go, another, customer, c, www.t-c...</td>\n",
       "      <td>1</td>\n",
       "    </tr>\n",
       "    <tr>\n",
       "      <th>603</th>\n",
       "      <td>[hahaha, .., use, brain, dear]</td>\n",
       "      <td>0</td>\n",
       "    </tr>\n",
       "    <tr>\n",
       "      <th>157</th>\n",
       "      <td>[urgent, trying, contact, u., today, draw, sho...</td>\n",
       "      <td>1</td>\n",
       "    </tr>\n",
       "    <tr>\n",
       "      <th>55</th>\n",
       "      <td>[guaranteed, £1000, cash, £2000, prize, claim,...</td>\n",
       "      <td>1</td>\n",
       "    </tr>\n",
       "    <tr>\n",
       "      <th>400</th>\n",
       "      <td>[haha, awesome, might, need, take, doin, tonight]</td>\n",
       "      <td>0</td>\n",
       "    </tr>\n",
       "    <tr>\n",
       "      <th>333</th>\n",
       "      <td>[hello, orange, 1, month, 's, free, access, ga...</td>\n",
       "      <td>1</td>\n",
       "    </tr>\n",
       "    <tr>\n",
       "      <th>8</th>\n",
       "      <td>[sppok, ur, mob, halloween, collection, nokia,...</td>\n",
       "      <td>1</td>\n",
       "    </tr>\n",
       "    <tr>\n",
       "      <th>655</th>\n",
       "      <td>[winner, u, specially, selected, 2, receive, £...</td>\n",
       "      <td>1</td>\n",
       "    </tr>\n",
       "    <tr>\n",
       "      <th>497</th>\n",
       "      <td>[though, shd, go, n, fun, bar, town, something...</td>\n",
       "      <td>0</td>\n",
       "    </tr>\n",
       "    <tr>\n",
       "      <th>568</th>\n",
       "      <td>[abj, serving, staying, dad, alone]</td>\n",
       "      <td>0</td>\n",
       "    </tr>\n",
       "    <tr>\n",
       "      <th>669</th>\n",
       "      <td>[hi, customer, loyalty, offer, new, nokia6650,...</td>\n",
       "      <td>1</td>\n",
       "    </tr>\n",
       "    <tr>\n",
       "      <th>215</th>\n",
       "      <td>[wa, thinking, chuckin, ur, red, green, n, bla...</td>\n",
       "      <td>0</td>\n",
       "    </tr>\n",
       "    <tr>\n",
       "      <th>702</th>\n",
       "      <td>[4, costa, del, sol, holiday, £5000, await, co...</td>\n",
       "      <td>1</td>\n",
       "    </tr>\n",
       "  </tbody>\n",
       "</table>\n",
       "</div>"
      ],
      "text/plain": [
       "                                      Message_modified  Category\n",
       "258               [tomorrow, onwards, eve, 6, 3, work]         0\n",
       "521  [wylie, update, weed, dealer, carlos, went, fr...         0\n",
       "14   [congrats, 1, year, special, cinema, pas, 2, c...         1\n",
       "31   [wo, n't, believe, 's, true, 's, incredible, t...         1\n",
       "505  [collect, valentine, 's, weekend, paris, inc, ...         1\n",
       "79   [dear, voucher, holder, claim, week, offer, pc...         1\n",
       "382        [g, say, never, answer, text, confirm/deny]         0\n",
       "75   [want, new, nokia, 3510i, colour, phone, deliv...         1\n",
       "471  [came, look, flat, seems, ok, 50, away, alot, ...         0\n",
       "27          [r, giving, second, chance, rahul, dengra]         0\n",
       "641               [like, shaking, booty, dance, floor]         0\n",
       "367  [hey, boy, want, hot, xxx, pic, sent, direct, ...         1\n",
       "583  [slaaaaave, must, summon, time, n't, wish, com...         0\n",
       "522                               [lol, ..., wa, busy]         0\n",
       "40   [congrats, 2, mobile, 3g, videophones, r, call...         1\n",
       "718  ['ve, already, got, flaky, parent, it'snot, su...         0\n",
       "283  [freemsg, feelin, kinda, lnly, hope, u, like, ...         1\n",
       "457                                            [error]         1\n",
       "385                                     [date, sunday]         0\n",
       "113  [da, birthdate, certificate, april, real, date...         0\n",
       "337  [n't, know, u, u, n't, know, send, chat, 86688...         1\n",
       "250  [n't, know, thing, 's, wrong, everyso, often, ...         0\n",
       "338                    [delhi, chennai, still, silent]         0\n",
       "230  [heard, u4, call, 4, rude, chat, private, line...         1\n",
       "631  [n't, prize, go, another, customer, c, www.t-c...         1\n",
       "603                     [hahaha, .., use, brain, dear]         0\n",
       "157  [urgent, trying, contact, u., today, draw, sho...         1\n",
       "55   [guaranteed, £1000, cash, £2000, prize, claim,...         1\n",
       "400  [haha, awesome, might, need, take, doin, tonight]         0\n",
       "333  [hello, orange, 1, month, 's, free, access, ga...         1\n",
       "8    [sppok, ur, mob, halloween, collection, nokia,...         1\n",
       "655  [winner, u, specially, selected, 2, receive, £...         1\n",
       "497  [though, shd, go, n, fun, bar, town, something...         0\n",
       "568                [abj, serving, staying, dad, alone]         0\n",
       "669  [hi, customer, loyalty, offer, new, nokia6650,...         1\n",
       "215  [wa, thinking, chuckin, ur, red, green, n, bla...         0\n",
       "702  [4, costa, del, sol, holiday, £5000, await, co...         1"
      ]
     },
     "execution_count": 126,
     "metadata": {},
     "output_type": "execute_result"
    }
   ],
   "source": [
    "undersampled_df.iloc[test_ham][['Message_modified', 'Category']]"
   ]
  },
  {
   "cell_type": "code",
   "execution_count": 127,
   "id": "503e3043",
   "metadata": {},
   "outputs": [
    {
     "data": {
      "text/html": [
       "<div>\n",
       "<style scoped>\n",
       "    .dataframe tbody tr th:only-of-type {\n",
       "        vertical-align: middle;\n",
       "    }\n",
       "\n",
       "    .dataframe tbody tr th {\n",
       "        vertical-align: top;\n",
       "    }\n",
       "\n",
       "    .dataframe thead th {\n",
       "        text-align: right;\n",
       "    }\n",
       "</style>\n",
       "<table border=\"1\" class=\"dataframe\">\n",
       "  <thead>\n",
       "    <tr style=\"text-align: right;\">\n",
       "      <th></th>\n",
       "      <th>Message_modified</th>\n",
       "      <th>Category</th>\n",
       "    </tr>\n",
       "  </thead>\n",
       "  <tbody>\n",
       "    <tr>\n",
       "      <th>1447</th>\n",
       "      <td>[private, 2004, account, statement, 078498, 7,...</td>\n",
       "      <td>1</td>\n",
       "    </tr>\n",
       "    <tr>\n",
       "      <th>756</th>\n",
       "      <td>[cd, 4u, congratulation, ur, awarded, £500, cd...</td>\n",
       "      <td>1</td>\n",
       "    </tr>\n",
       "    <tr>\n",
       "      <th>1126</th>\n",
       "      <td>[except, chick, huge, boob]</td>\n",
       "      <td>0</td>\n",
       "    </tr>\n",
       "    <tr>\n",
       "      <th>801</th>\n",
       "      <td>[monthly, password, wap, mobsi.com, 391784., u...</td>\n",
       "      <td>1</td>\n",
       "    </tr>\n",
       "    <tr>\n",
       "      <th>1438</th>\n",
       "      <td>[sunshine, quiz, wkly, q, win, top, sony, dvd,...</td>\n",
       "      <td>1</td>\n",
       "    </tr>\n",
       "    <tr>\n",
       "      <th>1115</th>\n",
       "      <td>[ok, lor, ...]</td>\n",
       "      <td>0</td>\n",
       "    </tr>\n",
       "    <tr>\n",
       "      <th>1483</th>\n",
       "      <td>[fantasy, football, back, tv, go, sky, gamesta...</td>\n",
       "      <td>1</td>\n",
       "    </tr>\n",
       "    <tr>\n",
       "      <th>938</th>\n",
       "      <td>[get, 3, lion, england, tone, reply, lionm, 4,...</td>\n",
       "      <td>1</td>\n",
       "    </tr>\n",
       "    <tr>\n",
       "      <th>1187</th>\n",
       "      <td>[forced, eat, slice, 'm, really, hungry, tho, ...</td>\n",
       "      <td>0</td>\n",
       "    </tr>\n",
       "    <tr>\n",
       "      <th>974</th>\n",
       "      <td>[opinion, 1., 2., jada, 3., kusruthi, 4., lova...</td>\n",
       "      <td>0</td>\n",
       "    </tr>\n",
       "    <tr>\n",
       "      <th>939</th>\n",
       "      <td>['ll, text, creepy, like, wo, n't, think, forgot]</td>\n",
       "      <td>0</td>\n",
       "    </tr>\n",
       "    <tr>\n",
       "      <th>1411</th>\n",
       "      <td>[also, sir, sent, email, log, usc, payment, po...</td>\n",
       "      <td>0</td>\n",
       "    </tr>\n",
       "    <tr>\n",
       "      <th>1360</th>\n",
       "      <td>[many, day, since]</td>\n",
       "      <td>0</td>\n",
       "    </tr>\n",
       "    <tr>\n",
       "      <th>1424</th>\n",
       "      <td>[gentle, princess, make, sweet, gentle, love, ...</td>\n",
       "      <td>0</td>\n",
       "    </tr>\n",
       "    <tr>\n",
       "      <th>1172</th>\n",
       "      <td>[tried, contact, offer, new, video, phone, 750...</td>\n",
       "      <td>1</td>\n",
       "    </tr>\n",
       "    <tr>\n",
       "      <th>1224</th>\n",
       "      <td>[lol, wtf, random, btw, lunch, break]</td>\n",
       "      <td>0</td>\n",
       "    </tr>\n",
       "    <tr>\n",
       "      <th>1369</th>\n",
       "      <td>[reply, win, £100, weekly, professional, sport...</td>\n",
       "      <td>1</td>\n",
       "    </tr>\n",
       "    <tr>\n",
       "      <th>951</th>\n",
       "      <td>[boltblue, tone, 150p, reply, poly, mono, eg, ...</td>\n",
       "      <td>1</td>\n",
       "    </tr>\n",
       "    <tr>\n",
       "      <th>1386</th>\n",
       "      <td>[feel, always, happy, .., slowly, becomes, hab...</td>\n",
       "      <td>0</td>\n",
       "    </tr>\n",
       "    <tr>\n",
       "      <th>753</th>\n",
       "      <td>[urgent, mobile, 07xxxxxxxxx, £2,000, bonus, c...</td>\n",
       "      <td>1</td>\n",
       "    </tr>\n",
       "    <tr>\n",
       "      <th>1134</th>\n",
       "      <td>[yo, around, friend, mine, 's, lookin, pick, l...</td>\n",
       "      <td>0</td>\n",
       "    </tr>\n",
       "    <tr>\n",
       "      <th>1453</th>\n",
       "      <td>[win, £200, shopping, spree, every, week, star...</td>\n",
       "      <td>1</td>\n",
       "    </tr>\n",
       "    <tr>\n",
       "      <th>829</th>\n",
       "      <td>[private, 2003, account, statement, 0780824786...</td>\n",
       "      <td>1</td>\n",
       "    </tr>\n",
       "    <tr>\n",
       "      <th>1300</th>\n",
       "      <td>[urgent, mobile, wa, awarded, £2,000, bonus, c...</td>\n",
       "      <td>1</td>\n",
       "    </tr>\n",
       "    <tr>\n",
       "      <th>873</th>\n",
       "      <td>[ur, cash-balance, currently, 500, pound, maxi...</td>\n",
       "      <td>1</td>\n",
       "    </tr>\n",
       "    <tr>\n",
       "      <th>1310</th>\n",
       "      <td>[today, voda, number, ending, 5226, selected, ...</td>\n",
       "      <td>1</td>\n",
       "    </tr>\n",
       "    <tr>\n",
       "      <th>1443</th>\n",
       "      <td>[yes, see, ya, dot]</td>\n",
       "      <td>0</td>\n",
       "    </tr>\n",
       "    <tr>\n",
       "      <th>1279</th>\n",
       "      <td>[money, wining, number, 946, wot, next]</td>\n",
       "      <td>1</td>\n",
       "    </tr>\n",
       "    <tr>\n",
       "      <th>1232</th>\n",
       "      <td>[fantasy, football, back, tv, go, sky, gamesta...</td>\n",
       "      <td>1</td>\n",
       "    </tr>\n",
       "    <tr>\n",
       "      <th>1331</th>\n",
       "      <td>[nobody, decide, eat, dad, want, chinese]</td>\n",
       "      <td>0</td>\n",
       "    </tr>\n",
       "    <tr>\n",
       "      <th>772</th>\n",
       "      <td>[recieve, tone, within, next, 24hrs, term, con...</td>\n",
       "      <td>1</td>\n",
       "    </tr>\n",
       "    <tr>\n",
       "      <th>1291</th>\n",
       "      <td>[urgent, important, information, o2, user, tod...</td>\n",
       "      <td>1</td>\n",
       "    </tr>\n",
       "    <tr>\n",
       "      <th>1238</th>\n",
       "      <td>[ofcourse, also, upload, song]</td>\n",
       "      <td>0</td>\n",
       "    </tr>\n",
       "    <tr>\n",
       "      <th>862</th>\n",
       "      <td>[train, back, northampton, 'm, afraid, 'm, sta...</td>\n",
       "      <td>0</td>\n",
       "    </tr>\n",
       "    <tr>\n",
       "      <th>966</th>\n",
       "      <td>[winner, u, specially, selected, 2, receive, £...</td>\n",
       "      <td>1</td>\n",
       "    </tr>\n",
       "    <tr>\n",
       "      <th>1308</th>\n",
       "      <td>[aiya, discus, later, lar, ..., pick, ü, 4]</td>\n",
       "      <td>0</td>\n",
       "    </tr>\n",
       "    <tr>\n",
       "      <th>1406</th>\n",
       "      <td>[winner, specially, selected, receive, £1000, ...</td>\n",
       "      <td>1</td>\n",
       "    </tr>\n",
       "  </tbody>\n",
       "</table>\n",
       "</div>"
      ],
      "text/plain": [
       "                                       Message_modified  Category\n",
       "1447  [private, 2004, account, statement, 078498, 7,...         1\n",
       "756   [cd, 4u, congratulation, ur, awarded, £500, cd...         1\n",
       "1126                        [except, chick, huge, boob]         0\n",
       "801   [monthly, password, wap, mobsi.com, 391784., u...         1\n",
       "1438  [sunshine, quiz, wkly, q, win, top, sony, dvd,...         1\n",
       "1115                                     [ok, lor, ...]         0\n",
       "1483  [fantasy, football, back, tv, go, sky, gamesta...         1\n",
       "938   [get, 3, lion, england, tone, reply, lionm, 4,...         1\n",
       "1187  [forced, eat, slice, 'm, really, hungry, tho, ...         0\n",
       "974   [opinion, 1., 2., jada, 3., kusruthi, 4., lova...         0\n",
       "939   ['ll, text, creepy, like, wo, n't, think, forgot]         0\n",
       "1411  [also, sir, sent, email, log, usc, payment, po...         0\n",
       "1360                                 [many, day, since]         0\n",
       "1424  [gentle, princess, make, sweet, gentle, love, ...         0\n",
       "1172  [tried, contact, offer, new, video, phone, 750...         1\n",
       "1224              [lol, wtf, random, btw, lunch, break]         0\n",
       "1369  [reply, win, £100, weekly, professional, sport...         1\n",
       "951   [boltblue, tone, 150p, reply, poly, mono, eg, ...         1\n",
       "1386  [feel, always, happy, .., slowly, becomes, hab...         0\n",
       "753   [urgent, mobile, 07xxxxxxxxx, £2,000, bonus, c...         1\n",
       "1134  [yo, around, friend, mine, 's, lookin, pick, l...         0\n",
       "1453  [win, £200, shopping, spree, every, week, star...         1\n",
       "829   [private, 2003, account, statement, 0780824786...         1\n",
       "1300  [urgent, mobile, wa, awarded, £2,000, bonus, c...         1\n",
       "873   [ur, cash-balance, currently, 500, pound, maxi...         1\n",
       "1310  [today, voda, number, ending, 5226, selected, ...         1\n",
       "1443                                [yes, see, ya, dot]         0\n",
       "1279            [money, wining, number, 946, wot, next]         1\n",
       "1232  [fantasy, football, back, tv, go, sky, gamesta...         1\n",
       "1331          [nobody, decide, eat, dad, want, chinese]         0\n",
       "772   [recieve, tone, within, next, 24hrs, term, con...         1\n",
       "1291  [urgent, important, information, o2, user, tod...         1\n",
       "1238                     [ofcourse, also, upload, song]         0\n",
       "862   [train, back, northampton, 'm, afraid, 'm, sta...         0\n",
       "966   [winner, u, specially, selected, 2, receive, £...         1\n",
       "1308        [aiya, discus, later, lar, ..., pick, ü, 4]         0\n",
       "1406  [winner, specially, selected, receive, £1000, ...         1"
      ]
     },
     "execution_count": 127,
     "metadata": {},
     "output_type": "execute_result"
    }
   ],
   "source": [
    "undersampled_df.iloc[test_spam][['Message_modified', 'Category']]"
   ]
  },
  {
   "cell_type": "code",
   "execution_count": 20,
   "id": "9b504a02",
   "metadata": {
    "scrolled": true
   },
   "outputs": [
    {
     "data": {
      "text/plain": [
       "array([ 505,  951,  400,    8,  938,   14, 1331,  862, 1443,  974,  250,\n",
       "        337, 1424,  157,  603,  772, 1453,  497, 1360, 1300,   27,  338,\n",
       "       1224, 1310,  215, 1134, 1411,  631,  382, 1369,  283, 1172, 1115,\n",
       "        583,  113, 1447,  753,  801,  471, 1238, 1187,  873, 1232, 1279,\n",
       "        718,   79,   31,  939,  258,  966, 1386,   55,  568,  655, 1291,\n",
       "        230, 1126, 1483,   75,  756,  385,  457,  641,  522,  367,   40,\n",
       "        829, 1308, 1406,  669, 1438,  702,  521,  333])"
      ]
     },
     "execution_count": 20,
     "metadata": {},
     "output_type": "execute_result"
    }
   ],
   "source": [
    "np.random.seed(12345)\n",
    "\n",
    "test = np.append(test_ham, test_spam)\n",
    "np.random.shuffle(test)\n",
    "test"
   ]
  },
  {
   "cell_type": "code",
   "execution_count": 21,
   "id": "1497a5fc",
   "metadata": {},
   "outputs": [],
   "source": [
    "df_train = undersampled_df.drop(index=test, axis=0).sample(frac=1)\n",
    "df_test = undersampled_df.iloc[test]"
   ]
  },
  {
   "cell_type": "code",
   "execution_count": 130,
   "id": "67d5986c",
   "metadata": {},
   "outputs": [
    {
     "data": {
      "text/plain": [
       "(74, 3)"
      ]
     },
     "execution_count": 130,
     "metadata": {},
     "output_type": "execute_result"
    }
   ],
   "source": [
    "df_test.shape"
   ]
  },
  {
   "cell_type": "code",
   "execution_count": 131,
   "id": "03fbeeac",
   "metadata": {},
   "outputs": [
    {
     "data": {
      "text/html": [
       "<div>\n",
       "<style scoped>\n",
       "    .dataframe tbody tr th:only-of-type {\n",
       "        vertical-align: middle;\n",
       "    }\n",
       "\n",
       "    .dataframe tbody tr th {\n",
       "        vertical-align: top;\n",
       "    }\n",
       "\n",
       "    .dataframe thead th {\n",
       "        text-align: right;\n",
       "    }\n",
       "</style>\n",
       "<table border=\"1\" class=\"dataframe\">\n",
       "  <thead>\n",
       "    <tr style=\"text-align: right;\">\n",
       "      <th></th>\n",
       "      <th>Message_modified</th>\n",
       "      <th>Category</th>\n",
       "    </tr>\n",
       "  </thead>\n",
       "  <tbody>\n",
       "    <tr>\n",
       "      <th>505</th>\n",
       "      <td>[collect, valentine, 's, weekend, paris, inc, ...</td>\n",
       "      <td>1</td>\n",
       "    </tr>\n",
       "    <tr>\n",
       "      <th>951</th>\n",
       "      <td>[boltblue, tone, 150p, reply, poly, mono, eg, ...</td>\n",
       "      <td>1</td>\n",
       "    </tr>\n",
       "    <tr>\n",
       "      <th>400</th>\n",
       "      <td>[haha, awesome, might, need, take, doin, tonight]</td>\n",
       "      <td>0</td>\n",
       "    </tr>\n",
       "    <tr>\n",
       "      <th>8</th>\n",
       "      <td>[sppok, ur, mob, halloween, collection, nokia,...</td>\n",
       "      <td>1</td>\n",
       "    </tr>\n",
       "    <tr>\n",
       "      <th>938</th>\n",
       "      <td>[get, 3, lion, england, tone, reply, lionm, 4,...</td>\n",
       "      <td>1</td>\n",
       "    </tr>\n",
       "  </tbody>\n",
       "</table>\n",
       "</div>"
      ],
      "text/plain": [
       "                                      Message_modified  Category\n",
       "505  [collect, valentine, 's, weekend, paris, inc, ...         1\n",
       "951  [boltblue, tone, 150p, reply, poly, mono, eg, ...         1\n",
       "400  [haha, awesome, might, need, take, doin, tonight]         0\n",
       "8    [sppok, ur, mob, halloween, collection, nokia,...         1\n",
       "938  [get, 3, lion, england, tone, reply, lionm, 4,...         1"
      ]
     },
     "execution_count": 131,
     "metadata": {},
     "output_type": "execute_result"
    }
   ],
   "source": [
    "df_test[['Message_modified', 'Category']].head()"
   ]
  },
  {
   "cell_type": "code",
   "execution_count": 132,
   "id": "52d6901b",
   "metadata": {},
   "outputs": [
    {
     "data": {
      "text/plain": [
       "(1420, 3)"
      ]
     },
     "execution_count": 132,
     "metadata": {},
     "output_type": "execute_result"
    }
   ],
   "source": [
    "df_train.shape"
   ]
  },
  {
   "cell_type": "code",
   "execution_count": 133,
   "id": "817421a9",
   "metadata": {},
   "outputs": [
    {
     "data": {
      "text/html": [
       "<div>\n",
       "<style scoped>\n",
       "    .dataframe tbody tr th:only-of-type {\n",
       "        vertical-align: middle;\n",
       "    }\n",
       "\n",
       "    .dataframe tbody tr th {\n",
       "        vertical-align: top;\n",
       "    }\n",
       "\n",
       "    .dataframe thead th {\n",
       "        text-align: right;\n",
       "    }\n",
       "</style>\n",
       "<table border=\"1\" class=\"dataframe\">\n",
       "  <thead>\n",
       "    <tr style=\"text-align: right;\">\n",
       "      <th></th>\n",
       "      <th>Message_modified</th>\n",
       "      <th>Category</th>\n",
       "    </tr>\n",
       "  </thead>\n",
       "  <tbody>\n",
       "    <tr>\n",
       "      <th>1077</th>\n",
       "      <td>[ur, awarded, city, break, could, win, £200, s...</td>\n",
       "      <td>1</td>\n",
       "    </tr>\n",
       "    <tr>\n",
       "      <th>751</th>\n",
       "      <td>[jus, chillaxin]</td>\n",
       "      <td>0</td>\n",
       "    </tr>\n",
       "    <tr>\n",
       "      <th>278</th>\n",
       "      <td>[lmao, nice, 1]</td>\n",
       "      <td>0</td>\n",
       "    </tr>\n",
       "    <tr>\n",
       "      <th>709</th>\n",
       "      <td>[romantic, paris, 2, night, 2, flight, £79, bo...</td>\n",
       "      <td>1</td>\n",
       "    </tr>\n",
       "    <tr>\n",
       "      <th>1152</th>\n",
       "      <td>[look, like, found, something, smoke, great, job]</td>\n",
       "      <td>0</td>\n",
       "    </tr>\n",
       "  </tbody>\n",
       "</table>\n",
       "</div>"
      ],
      "text/plain": [
       "                                       Message_modified  Category\n",
       "1077  [ur, awarded, city, break, could, win, £200, s...         1\n",
       "751                                    [jus, chillaxin]         0\n",
       "278                                     [lmao, nice, 1]         0\n",
       "709   [romantic, paris, 2, night, 2, flight, £79, bo...         1\n",
       "1152  [look, like, found, something, smoke, great, job]         0"
      ]
     },
     "execution_count": 133,
     "metadata": {},
     "output_type": "execute_result"
    }
   ],
   "source": [
    "df_train[['Message_modified', 'Category']].head()"
   ]
  },
  {
   "cell_type": "markdown",
   "id": "1ca7aaab",
   "metadata": {},
   "source": [
    "створимо словник"
   ]
  },
  {
   "cell_type": "code",
   "execution_count": 22,
   "id": "1de32b6b",
   "metadata": {},
   "outputs": [],
   "source": [
    "def flat_nested(y):\n",
    "    flatten = []\n",
    "    for x in y:\n",
    "        if isinstance(x, list):\n",
    "            flatten.extend(x)\n",
    "        else:\n",
    "            flatten.append(x)\n",
    "    return flatten"
   ]
  },
  {
   "cell_type": "code",
   "execution_count": 23,
   "id": "6e2caf39",
   "metadata": {},
   "outputs": [],
   "source": [
    "vocabular = set(flat_nested(df_train['Message_modified'].tolist()))"
   ]
  },
  {
   "cell_type": "markdown",
   "id": "77a36634",
   "metadata": {},
   "source": [
    "Поглянемо на часто \"вживані\" слова у словнику, щоб зрозуміти його якість"
   ]
  },
  {
   "cell_type": "code",
   "execution_count": 24,
   "id": "8e9ed9db",
   "metadata": {},
   "outputs": [],
   "source": [
    "cnt_vocab = Counter(flat_nested(df_train['Message_modified'].tolist()))"
   ]
  },
  {
   "cell_type": "code",
   "execution_count": 136,
   "id": "224e53f6",
   "metadata": {},
   "outputs": [
    {
     "data": {
      "text/plain": [
       "[('call', 379),\n",
       " ('u', 277),\n",
       " ('free', 215),\n",
       " ('2', 203),\n",
       " ('ur', 168),\n",
       " ('...', 168),\n",
       " ('txt', 153),\n",
       " ('text', 143),\n",
       " (\"'s\", 138),\n",
       " ('mobile', 133),\n",
       " ('get', 128),\n",
       " ('4', 126),\n",
       " ('stop', 120),\n",
       " ('..', 115),\n",
       " ('reply', 105),\n",
       " ('claim', 105),\n",
       " ('c', 95),\n",
       " ('new', 86),\n",
       " ('prize', 85),\n",
       " ('send', 84),\n",
       " ('service', 70),\n",
       " ('tone', 68),\n",
       " ('go', 67),\n",
       " (\"n't\", 66),\n",
       " ('day', 64),\n",
       " (\"'m\", 64),\n",
       " ('phone', 64),\n",
       " ('nokia', 64),\n",
       " ('week', 63),\n",
       " ('cash', 60),\n",
       " ('please', 60),\n",
       " ('want', 60),\n",
       " ('win', 59),\n",
       " ('urgent', 58),\n",
       " ('message', 56),\n",
       " ('know', 55),\n",
       " ('ha', 54),\n",
       " ('contact', 53),\n",
       " ('min', 53),\n",
       " ('lt', 52),\n",
       " ('time', 51),\n",
       " ('gt', 51),\n",
       " ('today', 50),\n",
       " ('customer', 50),\n",
       " ('r', 49),\n",
       " ('wa', 49),\n",
       " ('guaranteed', 46),\n",
       " ('number', 46),\n",
       " ('good', 45),\n",
       " ('per', 45)]"
      ]
     },
     "execution_count": 136,
     "metadata": {},
     "output_type": "execute_result"
    }
   ],
   "source": [
    "cnt_vocab.most_common(50)"
   ]
  },
  {
   "cell_type": "code",
   "execution_count": 137,
   "id": "ca375de5",
   "metadata": {},
   "outputs": [
    {
     "data": {
      "text/plain": [
       "[('dp', 1),\n",
       " ('bcm', 1),\n",
       " ('8027', 1),\n",
       " ('tarot', 1),\n",
       " ('85555', 1),\n",
       " ('olympics', 1),\n",
       " ('09090900040', 1),\n",
       " ('extreme', 1),\n",
       " ('dirty', 1),\n",
       " ('total', 1),\n",
       " ('privacy', 1),\n",
       " ('sic', 1),\n",
       " ('60p', 1),\n",
       " ('24/7mp', 1),\n",
       " ('0870753331018+', 1),\n",
       " ('hottest', 1),\n",
       " ('wanting', 1),\n",
       " ('07801543489', 1),\n",
       " ('no:83355', 1),\n",
       " ('tc-llc', 1),\n",
       " ('ny-usa', 1),\n",
       " ('150p/mt', 1),\n",
       " ('msgrcvd18+', 1),\n",
       " ('n-gage', 1),\n",
       " ('deck', 1),\n",
       " ('www.cnupdates.com/newsletter', 1),\n",
       " ('32000', 1),\n",
       " ('legitimat', 1),\n",
       " ('efreefone', 1),\n",
       " ('outbid', 1),\n",
       " ('simonwatson5120', 1),\n",
       " ('shinco', 1),\n",
       " ('plyr', 1),\n",
       " ('ac/smsrewards', 1),\n",
       " ('notification', 1),\n",
       " ('install', 1),\n",
       " ('browse', 1),\n",
       " ('artist', 1),\n",
       " ('wined', 1),\n",
       " ('dined', 1),\n",
       " ('www.gamb.tv', 1),\n",
       " ('09061701939.', 1),\n",
       " ('s89', 1),\n",
       " ('messages-text', 1),\n",
       " ('web2mobile', 1),\n",
       " ('txt250.com', 1),\n",
       " ('1.50p/wk', 1),\n",
       " ('box139', 1),\n",
       " ('la32wu', 1)]"
      ]
     },
     "execution_count": 137,
     "metadata": {},
     "output_type": "execute_result"
    }
   ],
   "source": [
    "cnt_vocab.most_common()[-50:-1]"
   ]
  },
  {
   "cell_type": "markdown",
   "id": "95d48432",
   "metadata": {},
   "source": [
    "Бачимо, що є точки, окремі букви, лапки і тд"
   ]
  },
  {
   "cell_type": "markdown",
   "id": "9d70b3c0",
   "metadata": {},
   "source": [
    "Побудуємо більш \"чистий\" словник"
   ]
  },
  {
   "cell_type": "code",
   "execution_count": 25,
   "id": "c2eb7ee8",
   "metadata": {},
   "outputs": [],
   "source": [
    "threshold_count = 1\n",
    "threshold_len = 2\n",
    "cleaned_vocabular = list()\n",
    "for token, count in cnt_vocab.items():\n",
    "    if count > threshold_count and len(token) > threshold_len:\n",
    "        cond_digit = not any(c.isdigit() for c in token)\n",
    "        cond_punct = token[0] not in punctuation\n",
    "        \n",
    "        if cond_digit and cond_punct:\n",
    "            cleaned_vocabular.append(token)"
   ]
  },
  {
   "cell_type": "code",
   "execution_count": 26,
   "id": "68694693",
   "metadata": {},
   "outputs": [
    {
     "name": "stderr",
     "output_type": "stream",
     "text": [
      "/var/folders/4b/b3hx73cj4fzcm29xwvlsn2j80000gn/T/ipykernel_78591/3951361505.py:6: SettingWithCopyWarning: \n",
      "A value is trying to be set on a copy of a slice from a DataFrame.\n",
      "Try using .loc[row_indexer,col_indexer] = value instead\n",
      "\n",
      "See the caveats in the documentation: https://pandas.pydata.org/pandas-docs/stable/user_guide/indexing.html#returning-a-view-versus-a-copy\n",
      "  df_test['Message_filtered'] = df_test['Message_modified'].apply(lambda u: sequence_cleaner(u, cleaned_vocabular))\n"
     ]
    }
   ],
   "source": [
    "def sequence_cleaner(s, voc):\n",
    "    res = [sj for sj in s if sj in voc]\n",
    "    return res\n",
    "\n",
    "df_train['Message_filtered'] = df_train['Message_modified'].apply(lambda u: sequence_cleaner(u, cleaned_vocabular))\n",
    "df_test['Message_filtered'] = df_test['Message_modified'].apply(lambda u: sequence_cleaner(u, cleaned_vocabular))"
   ]
  },
  {
   "cell_type": "code",
   "execution_count": 247,
   "id": "ea31545c",
   "metadata": {},
   "outputs": [
    {
     "data": {
      "text/plain": [
       "1126    []\n",
       "Name: Message_filtered, dtype: object"
      ]
     },
     "execution_count": 247,
     "metadata": {},
     "output_type": "execute_result"
    }
   ],
   "source": [
    "df_train['Message_filtered'][df_train['Message_filtered'].apply(lambda u: len(u)) == 0]"
   ]
  },
  {
   "cell_type": "code",
   "execution_count": 249,
   "id": "c0bdd240",
   "metadata": {},
   "outputs": [
    {
     "data": {
      "text/html": [
       "<div>\n",
       "<style scoped>\n",
       "    .dataframe tbody tr th:only-of-type {\n",
       "        vertical-align: middle;\n",
       "    }\n",
       "\n",
       "    .dataframe tbody tr th {\n",
       "        vertical-align: top;\n",
       "    }\n",
       "\n",
       "    .dataframe thead th {\n",
       "        text-align: right;\n",
       "    }\n",
       "</style>\n",
       "<table border=\"1\" class=\"dataframe\">\n",
       "  <thead>\n",
       "    <tr style=\"text-align: right;\">\n",
       "      <th></th>\n",
       "      <th>Message_modified</th>\n",
       "      <th>Message_filtered</th>\n",
       "      <th>Category</th>\n",
       "    </tr>\n",
       "  </thead>\n",
       "  <tbody>\n",
       "    <tr>\n",
       "      <th>0</th>\n",
       "      <td>[ur, awarded, city, break, could, win, £200, s...</td>\n",
       "      <td>[awarded, city, break, could, win, summer, sho...</td>\n",
       "      <td>1</td>\n",
       "    </tr>\n",
       "    <tr>\n",
       "      <th>1</th>\n",
       "      <td>[jus, chillaxin]</td>\n",
       "      <td>[jus]</td>\n",
       "      <td>0</td>\n",
       "    </tr>\n",
       "    <tr>\n",
       "      <th>2</th>\n",
       "      <td>[lmao, nice, 1]</td>\n",
       "      <td>[lmao, nice]</td>\n",
       "      <td>0</td>\n",
       "    </tr>\n",
       "    <tr>\n",
       "      <th>3</th>\n",
       "      <td>[romantic, paris, 2, night, 2, flight, £79, bo...</td>\n",
       "      <td>[night, flight, book, next, year, call, apply]</td>\n",
       "      <td>1</td>\n",
       "    </tr>\n",
       "    <tr>\n",
       "      <th>4</th>\n",
       "      <td>[look, like, found, something, smoke, great, job]</td>\n",
       "      <td>[look, like, found, something, smoke, great, job]</td>\n",
       "      <td>0</td>\n",
       "    </tr>\n",
       "  </tbody>\n",
       "</table>\n",
       "</div>"
      ],
      "text/plain": [
       "                                    Message_modified  \\\n",
       "0  [ur, awarded, city, break, could, win, £200, s...   \n",
       "1                                   [jus, chillaxin]   \n",
       "2                                    [lmao, nice, 1]   \n",
       "3  [romantic, paris, 2, night, 2, flight, £79, bo...   \n",
       "4  [look, like, found, something, smoke, great, job]   \n",
       "\n",
       "                                    Message_filtered  Category  \n",
       "0  [awarded, city, break, could, win, summer, sho...         1  \n",
       "1                                              [jus]         0  \n",
       "2                                       [lmao, nice]         0  \n",
       "3     [night, flight, book, next, year, call, apply]         1  \n",
       "4  [look, like, found, something, smoke, great, job]         0  "
      ]
     },
     "execution_count": 249,
     "metadata": {},
     "output_type": "execute_result"
    }
   ],
   "source": [
    "df_train[['Message_modified', 'Message_filtered', 'Category']].head()"
   ]
  },
  {
   "cell_type": "code",
   "execution_count": 141,
   "id": "80f1e3c0",
   "metadata": {},
   "outputs": [
    {
     "data": {
      "text/html": [
       "<div>\n",
       "<style scoped>\n",
       "    .dataframe tbody tr th:only-of-type {\n",
       "        vertical-align: middle;\n",
       "    }\n",
       "\n",
       "    .dataframe tbody tr th {\n",
       "        vertical-align: top;\n",
       "    }\n",
       "\n",
       "    .dataframe thead th {\n",
       "        text-align: right;\n",
       "    }\n",
       "</style>\n",
       "<table border=\"1\" class=\"dataframe\">\n",
       "  <thead>\n",
       "    <tr style=\"text-align: right;\">\n",
       "      <th></th>\n",
       "      <th>Message_modified</th>\n",
       "      <th>Message_filtered</th>\n",
       "      <th>Category</th>\n",
       "    </tr>\n",
       "  </thead>\n",
       "  <tbody>\n",
       "    <tr>\n",
       "      <th>505</th>\n",
       "      <td>[collect, valentine, 's, weekend, paris, inc, ...</td>\n",
       "      <td>[collect, valentine, weekend, inc, flight, hot...</td>\n",
       "      <td>1</td>\n",
       "    </tr>\n",
       "    <tr>\n",
       "      <th>951</th>\n",
       "      <td>[boltblue, tone, 150p, reply, poly, mono, eg, ...</td>\n",
       "      <td>[tone, reply, poly, mono, yeah, come, stop, to...</td>\n",
       "      <td>1</td>\n",
       "    </tr>\n",
       "    <tr>\n",
       "      <th>400</th>\n",
       "      <td>[haha, awesome, might, need, take, doin, tonight]</td>\n",
       "      <td>[haha, awesome, might, need, take, doin, tonight]</td>\n",
       "      <td>0</td>\n",
       "    </tr>\n",
       "    <tr>\n",
       "      <th>8</th>\n",
       "      <td>[sppok, ur, mob, halloween, collection, nokia,...</td>\n",
       "      <td>[mob, halloween, collection, nokia, logo, pic,...</td>\n",
       "      <td>1</td>\n",
       "    </tr>\n",
       "    <tr>\n",
       "      <th>938</th>\n",
       "      <td>[get, 3, lion, england, tone, reply, lionm, 4,...</td>\n",
       "      <td>[get, england, tone, reply, mono, poly, www.ri...</td>\n",
       "      <td>1</td>\n",
       "    </tr>\n",
       "  </tbody>\n",
       "</table>\n",
       "</div>"
      ],
      "text/plain": [
       "                                      Message_modified  \\\n",
       "505  [collect, valentine, 's, weekend, paris, inc, ...   \n",
       "951  [boltblue, tone, 150p, reply, poly, mono, eg, ...   \n",
       "400  [haha, awesome, might, need, take, doin, tonight]   \n",
       "8    [sppok, ur, mob, halloween, collection, nokia,...   \n",
       "938  [get, 3, lion, england, tone, reply, lionm, 4,...   \n",
       "\n",
       "                                      Message_filtered  Category  \n",
       "505  [collect, valentine, weekend, inc, flight, hot...         1  \n",
       "951  [tone, reply, poly, mono, yeah, come, stop, to...         1  \n",
       "400  [haha, awesome, might, need, take, doin, tonight]         0  \n",
       "8    [mob, halloween, collection, nokia, logo, pic,...         1  \n",
       "938  [get, england, tone, reply, mono, poly, www.ri...         1  "
      ]
     },
     "execution_count": 141,
     "metadata": {},
     "output_type": "execute_result"
    }
   ],
   "source": [
    "df_test[['Message_modified', 'Message_filtered', 'Category']].head()"
   ]
  },
  {
   "cell_type": "markdown",
   "id": "b5845b63",
   "metadata": {},
   "source": [
    "ситуація покращилась.\n",
    "треба зазначити, що самі повідомлення були написани у casual стилі, а не у професійному. тому могла залишитись частина притаманних носіям мови скорочень.\n",
    "також варто уточнити, запропонований підхід до перетворення речення на токени є дещо грубим, бо ріже зв'язки, які частково базуються на тих самих частках (was, dont, does, etc). але основний сенс речення можна передати навіть у такому випадку, хоч і грубо."
   ]
  },
  {
   "cell_type": "markdown",
   "id": "566c2b9e",
   "metadata": {},
   "source": [
    "### Побудуємо рекурентну нейронну мережу з власним шаром вкладення слів."
   ]
  },
  {
   "cell_type": "code",
   "execution_count": 27,
   "id": "3d4fc332",
   "metadata": {},
   "outputs": [
    {
     "data": {
      "text/plain": [
       "<torch._C.Generator at 0x16c61fe70>"
      ]
     },
     "execution_count": 27,
     "metadata": {},
     "output_type": "execute_result"
    }
   ],
   "source": [
    "torch.manual_seed(12345)"
   ]
  },
  {
   "cell_type": "code",
   "execution_count": 28,
   "id": "763d7938",
   "metadata": {},
   "outputs": [
    {
     "data": {
      "text/plain": [
       "device(type='cpu')"
      ]
     },
     "execution_count": 28,
     "metadata": {},
     "output_type": "execute_result"
    }
   ],
   "source": [
    "device = torch.device('cuda' if torch.cuda.is_available() else 'cpu')\n",
    "device"
   ]
  },
  {
   "cell_type": "markdown",
   "id": "a7bc1877",
   "metadata": {},
   "source": [
    "Поки спробуємо на cpu, може 10-ти штук вистачить."
   ]
  },
  {
   "cell_type": "code",
   "execution_count": 29,
   "id": "a243769d",
   "metadata": {},
   "outputs": [],
   "source": [
    "#копія чистого словнику, щоб не перероблювати його наново при можливих невдалих змінах надалі\n",
    "vocabulary_main = cleaned_vocabular.copy()\n",
    "vocabulary_main.append(' ')\n",
    "\n",
    "WORD_TO_IDX = {WORD: IDX for IDX, WORD in enumerate(vocabulary_main)}\n",
    "\n",
    "def vectorize(s, word_map):\n",
    "    sequence_lengths = list(map(len, s))\n",
    "    max_length = max(sequence_lengths)\n",
    "    \n",
    "    s_idx = np.zeros([len(s), max_length]) + word_map.get('', 0)\n",
    "\n",
    "    for j in range(len(s)):\n",
    "        line_idx = [word_map[w] for w in s[j] if w in word_map]\n",
    "        s_idx[j, :len(line_idx)] = line_idx\n",
    "\n",
    "    return s_idx, sequence_lengths"
   ]
  },
  {
   "cell_type": "code",
   "execution_count": 30,
   "id": "9cda92d9",
   "metadata": {},
   "outputs": [],
   "source": [
    "class BaseRNN(nn.Module):\n",
    "    #метод ініціалізації для класу BaseRNN\n",
    "    def __init__(self, vocab_size, embedding_size, hidden_size):\n",
    "        #виклик конструктора parent класу\n",
    "        super(self.__class__, self).__init__()\n",
    "         #створення шару вбудовування з вказаним розміром словника та розміром вбудовування\n",
    "        self.embedding = nn.Embedding(vocab_size, embedding_size)\n",
    "        #cтворення шару RNN з розміром вводу (розмір вбудовування) та розміром прихованого стану\n",
    "        self.rnn = nn.RNN(embedding_size, hidden_size, batch_first=True)\n",
    "        #cтворення лінійного шару з розміром вводу (розмір прихованого стану) та розміром виводу 1\n",
    "        self.linear = nn.Linear(hidden_size, 1)  \n",
    "        #cтворення функції активації Sigmoid\n",
    "        self.sigmoid = nn.Sigmoid()\n",
    "        \n",
    "    #метод forward, який визначає обчислення під час проходження вперед    \n",
    "    def forward(self, x, sequences_lengths):\n",
    "        #передача текстової послідовності\n",
    "        embedding = self.embedding(x)\n",
    "        #упаковування вбудованої послідовності на основі вказаних довжин послідовностей\n",
    "        pack = torch.nn.utils.rnn.pack_padded_sequence(\n",
    "            embedding, sequences_lengths, \n",
    "            batch_first=True, enforce_sorted=False\n",
    "        )\n",
    "        #передача упакованої послідовності через шар RNN (залучення рекурентної компоненти)\n",
    "        all_hidden_states, hidden = self.rnn(pack)\n",
    "        #забір даних з з RNN-компоненти у шар\n",
    "        from_linear = self.linear(hidden)\n",
    "        #прогноз класифікації повідомлення\n",
    "        output = self.sigmoid(from_linear)\n",
    "        return output"
   ]
  },
  {
   "cell_type": "code",
   "execution_count": 31,
   "id": "cdb817fd",
   "metadata": {},
   "outputs": [
    {
     "data": {
      "text/plain": [
       "BaseRNN(\n",
       "  (embedding): Embedding(1416, 500)\n",
       "  (rnn): RNN(500, 200, batch_first=True)\n",
       "  (linear): Linear(in_features=200, out_features=1, bias=True)\n",
       "  (sigmoid): Sigmoid()\n",
       ")"
      ]
     },
     "execution_count": 31,
     "metadata": {},
     "output_type": "execute_result"
    }
   ],
   "source": [
    "#ініціалізація моделі\n",
    "model = BaseRNN(\n",
    "    vocab_size=len(vocabulary_main), embedding_size=500, hidden_size=200\n",
    ")\n",
    "model.to(device)"
   ]
  },
  {
   "cell_type": "code",
   "execution_count": 32,
   "id": "ed96ba8a",
   "metadata": {},
   "outputs": [],
   "source": [
    "epoch_loss_values = []\n",
    "step_loss_values = []"
   ]
  },
  {
   "cell_type": "code",
   "execution_count": 33,
   "id": "d78f8d27",
   "metadata": {},
   "outputs": [],
   "source": [
    "#функція вартості (loss function)\n",
    "loss_function = nn.BCELoss()\n",
    "#оптимізато ADAM\n",
    "optimizer = torch.optim.Adam(model.parameters(), lr=0.005)"
   ]
  },
  {
   "cell_type": "code",
   "execution_count": 34,
   "id": "d292c7fe",
   "metadata": {},
   "outputs": [],
   "source": [
    "batch_size = 50\n",
    "n_epochs = 50\n",
    "n_train = df_train.shape[0]\n",
    "n_iters = n_train // batch_size"
   ]
  },
  {
   "cell_type": "code",
   "execution_count": 35,
   "id": "c7ea07a0",
   "metadata": {},
   "outputs": [],
   "source": [
    "n_tab = str(len(str(n_epochs)))"
   ]
  },
  {
   "cell_type": "code",
   "execution_count": 36,
   "id": "b8a3c66a",
   "metadata": {},
   "outputs": [
    {
     "name": "stdout",
     "output_type": "stream",
     "text": [
      "epoch  1: epoch_loss: 0.23434042770947727\n",
      "epoch  2: epoch_loss: 0.1099913114947932\n",
      "epoch  3: epoch_loss: 0.07013509528977531\n",
      "epoch  4: epoch_loss: 0.027429279804761918\n",
      "epoch  5: epoch_loss: 0.024663378850423863\n",
      "epoch  6: epoch_loss: 0.012508450707952893\n",
      "epoch  7: epoch_loss: 0.02812455581235034\n",
      "epoch  8: epoch_loss: 0.034070822676377635\n",
      "epoch  9: epoch_loss: 0.03130581969993987\n",
      "epoch 10: epoch_loss: 0.01475262289334621\n",
      "epoch 11: epoch_loss: 0.00781803548202983\n",
      "epoch 12: epoch_loss: 0.005799249238667211\n",
      "epoch 13: epoch_loss: 0.0030353473100279056\n",
      "epoch 14: epoch_loss: 0.004542175077533882\n",
      "epoch 15: epoch_loss: 0.000738083353748412\n",
      "epoch 16: epoch_loss: 0.0008549904076582088\n",
      "epoch 17: epoch_loss: 0.00048250326134231206\n",
      "epoch 18: epoch_loss: 0.00040634994885684647\n",
      "epoch 19: epoch_loss: 0.0007544440450146795\n",
      "epoch 20: epoch_loss: 0.0005649714403261896\n",
      "epoch 21: epoch_loss: 0.0003774994708822175\n",
      "epoch 22: epoch_loss: 0.0002792663963191444\n",
      "epoch 23: epoch_loss: 0.0001317840485301401\n",
      "epoch 24: epoch_loss: 0.00019439539807665696\n",
      "epoch 25: epoch_loss: 0.00012948793976517794\n",
      "epoch 26: epoch_loss: 0.00011914562661071873\n",
      "epoch 27: epoch_loss: 0.00015452058193789396\n",
      "epoch 28: epoch_loss: 9.206360820306665e-05\n",
      "epoch 29: epoch_loss: 0.00013104252203837474\n",
      "epoch 30: epoch_loss: 0.00012241002774057312\n",
      "epoch 31: epoch_loss: 0.0001052926270079167\n",
      "epoch 32: epoch_loss: 9.952118671208153e-05\n",
      "epoch 33: epoch_loss: 0.00010229370309389195\n",
      "epoch 34: epoch_loss: 6.982323845607295e-05\n",
      "epoch 35: epoch_loss: 9.308317450112164e-05\n",
      "epoch 36: epoch_loss: 5.8698471678196385e-05\n",
      "epoch 37: epoch_loss: 8.900507366758705e-05\n",
      "epoch 38: epoch_loss: 5.009659162169556e-05\n",
      "epoch 39: epoch_loss: 8.321579311346536e-05\n",
      "epoch 40: epoch_loss: 2.9961573285878066e-05\n",
      "epoch 41: epoch_loss: 5.6562009636503975e-05\n",
      "epoch 42: epoch_loss: 6.345128940665745e-05\n",
      "epoch 43: epoch_loss: 6.849836362172417e-05\n",
      "epoch 44: epoch_loss: 5.1556229664129205e-05\n",
      "epoch 45: epoch_loss: 5.9768607830587174e-05\n",
      "epoch 46: epoch_loss: 2.912697073043091e-05\n",
      "epoch 47: epoch_loss: 3.525399603989042e-05\n",
      "epoch 48: epoch_loss: 5.854956940051385e-05\n",
      "epoch 49: epoch_loss: 4.8327586487825366e-05\n",
      "epoch 50: epoch_loss: 4.0690942244379714e-05\n"
     ]
    }
   ],
   "source": [
    "#цикл по епохам\n",
    "for epoch in range(n_epochs):\n",
    "    #ініціалізація суми втрат для кожної епохи\n",
    "    epoch_loss = 0 \n",
    "    \n",
    "    #створення копії навчального набору даних, його перетасовка та скидання індексу\n",
    "    df_train_c = df_train.copy().sample(n_train).reset_index(drop=True)\n",
    "    \n",
    "    #цикл по ітераціях у межах епохи\n",
    "    for step in range(n_iters):\n",
    "        \n",
    "        #\"обнулення\" (make zero) градієнтів для підготовки до нової ітерації\n",
    "        optimizer.zero_grad()\n",
    "        #обчислення індексів для поточного пакету в тренувальних даних\n",
    "        idx = np.arange(0, batch_size, 1) + batch_size * step\n",
    "        current_batch = df_train_c.iloc[idx]\n",
    "\n",
    "        #векторизація повідомлень у поточному пакеті\n",
    "        #отримання довжин послідовностей\n",
    "        batch_idx, seq_lengths = vectorize(current_batch['Message_filtered'].tolist(), WORD_TO_IDX)\n",
    "        if any(length <= 0 for length in seq_lengths):\n",
    "            continue\n",
    "        seq_lengths = np.array(seq_lengths)\n",
    "        #конвертація індексів пакета в тензор PyTorch та переміщення на cpu\n",
    "        batch_idx = torch.tensor(batch_idx, dtype=torch.int64).to(device)\n",
    "\n",
    "        #отримання справжніх (true) міток для поточного пакета та конвертація в тензор PyTorch\n",
    "        y_true = current_batch['Category'].tolist() \n",
    "        y_true = torch.tensor(y_true, dtype=torch.float).to(device)\n",
    "\n",
    "        #підраххунок передбачень\n",
    "        y_pred = model(batch_idx, seq_lengths)\n",
    "        \n",
    "        #обчислення втрат між спрогнозованими та справжніми мітками\n",
    "        loss = loss_function(y_pred.squeeze(), y_true)\n",
    "        \n",
    "        #значення втрат для поточного кроку до списку\n",
    "        step_loss_values.append(loss)\n",
    "        \n",
    "        #збір разом втрат для епохи\n",
    "        epoch_loss += loss.item() / n_iters\n",
    "        #обчислення градієнтів та оновлення параметрів моделі\n",
    "        loss.backward()\n",
    "        optimizer.step()\n",
    "    \n",
    "    epoch_loss_values.append(epoch_loss)\n",
    "    \n",
    "    #виведення номера епохи та загальних втрат для епохи\n",
    "    print(('epoch {:' + n_tab + '}: epoch_loss: {}').format(epoch+1, epoch_loss))    "
   ]
  },
  {
   "cell_type": "code",
   "execution_count": 188,
   "id": "9e4f2d28",
   "metadata": {},
   "outputs": [
    {
     "data": {
      "image/png": "[encoded data removed]",
      "text/plain": [
       "<Figure size 640x480 with 1 Axes>"
      ]
     },
     "metadata": {},
     "output_type": "display_data"
    }
   ],
   "source": [
    "plt.plot(np.arange(1, n_epochs + 1), epoch_loss_values)\n",
    "plt.show()"
   ]
  },
  {
   "cell_type": "code",
   "execution_count": 37,
   "id": "cb84c7ce",
   "metadata": {},
   "outputs": [],
   "source": [
    "#функція для генерації індексів, які вказують на межі частин\n",
    "def index_marks(nrows, chunk_size):\n",
    "    #генерація діапазонів індексів\n",
    "    return range(1 * chunk_size, (nrows // chunk_size + 1) * chunk_size, chunk_size)"
   ]
  },
  {
   "cell_type": "code",
   "execution_count": 38,
   "id": "675fb5c7",
   "metadata": {},
   "outputs": [],
   "source": [
    "#функція для розбиття датафрейму на частини на основі вказаного розміру частини\n",
    "def split(df, chunk_size):\n",
    "    #генерація індексів\n",
    "    indices = index_marks(df.shape[0], chunk_size)\n",
    "    #розбиття датафрейму за допомогою згенерованих індексів\n",
    "    s = np.split(df, indices)\n",
    "    #видалення пустої останньої частини (якзо вона є)\n",
    "    if s[-1].empty:\n",
    "        return s[:-1]\n",
    "    return s"
   ]
  },
  {
   "cell_type": "code",
   "execution_count": 42,
   "id": "7e8a8740",
   "metadata": {},
   "outputs": [],
   "source": [
    "#функція для прогнозування за допомогою моделі\n",
    "def make_predictions(model, df_test, batch_size, threshold, prints_b = True): \n",
    "    #лічильник для виведення прогнозів\n",
    "    n_prints = 0\n",
    "    #списки для збереження справжніх (true) міток та прогнозів\n",
    "    predictions = []\n",
    "    true_labels = []\n",
    "    #розбиття тестових даних на міні-пакети\n",
    "    test_batches = split(df_test, batch_size)\n",
    "    \n",
    "    #ітерація по міні-пакетам тестових даних\n",
    "    for batch in test_batches:\n",
    "        #векторизація повідомлень у міні-пакеті\n",
    "        batch_ix, seq_lengths = vectorize(batch['Message_filtered'].tolist(), WORD_TO_IDX)\n",
    "        if any(length <= 0 for length in seq_lengths):\n",
    "            continue\n",
    "        seq_lengths = np.array(seq_lengths)\n",
    "        #перетворення у тензор  міні-пакетів \n",
    "        batch_ix = torch.tensor(batch_ix, dtype=torch.int64).to(device)\n",
    "\n",
    "        #отримання справжніх категорій спам(1)/хам(0) для міні-пакету\n",
    "        y_true = batch['Category'].tolist()\n",
    "\n",
    "        #прогнозування\n",
    "        y_pred = model(batch_ix, seq_lengths).cpu().detach().squeeze().numpy()\n",
    "        y_pred = [int(pred.item() > threshold) for pred in y_pred]\n",
    "        \n",
    "        #додавання справжніх міток та прогнозів до відповідних списків\n",
    "        predictions.extend(y_pred)\n",
    "        true_labels.extend(y_true)\n",
    "        \n",
    "        #виведення прогнозів та відгуків\n",
    "        if prints_b:\n",
    "            for true, pred, document in zip(y_true, y_pred, batch['Message']):\n",
    "                if true == 1.0 and n_prints < 10:\n",
    "                    print(\"prediction: {}\".format(pred))\n",
    "                    print(\"truth: {}\".format(true))\n",
    "                    print(\"message contains: {}\".format(document))\n",
    "                    print(\"\\n\" + \"/////////////////////////////\" + \"\\n\")\n",
    "                    n_prints += 1\n",
    "        \n",
    "    return true_labels, predictions"
   ]
  },
  {
   "cell_type": "code",
   "execution_count": 43,
   "id": "d4e45b2f",
   "metadata": {
    "scrolled": false
   },
   "outputs": [
    {
     "name": "stdout",
     "output_type": "stream",
     "text": [
      "prediction: 1\n",
      "truth: 1\n",
      "message contains: Collect your VALENTINE'S weekend to PARIS inc Flight & Hotel + £200 Prize guaranteed! Text: PARIS to No: 69101. www.rtf.sphosting.com\n",
      "\n",
      "/////////////////////////////\n",
      "\n",
      "prediction: 1\n",
      "truth: 1\n",
      "message contains: Boltblue tones for 150p Reply POLY# or MONO# eg POLY3 1. Cha Cha Slide 2. Yeah 3. Slow Jamz 6. Toxic 8. Come With Me or STOP 4 more tones txt MORE\n",
      "\n",
      "/////////////////////////////\n",
      "\n",
      "prediction: 1\n",
      "truth: 1\n",
      "message contains: Sppok up ur mob with a Halloween collection of nokia logo&pic message plus a FREE eerie tone, txt CARD SPOOK to 8007\n",
      "\n",
      "/////////////////////////////\n",
      "\n",
      "prediction: 1\n",
      "truth: 1\n",
      "message contains: Get 3 Lions England tone, reply lionm 4 mono or lionp 4 poly. 4 more go 2 www.ringtones.co.uk, the original n best. Tones 3GBP network operator rates apply\n",
      "\n",
      "/////////////////////////////\n",
      "\n",
      "prediction: 1\n",
      "truth: 1\n",
      "message contains: Congrats! 1 year special cinema pass for 2 is yours. call 09061209465 now! C Suprman V, Matrix3, StarWars3, etc all 4 FREE! bx420-ip4-5we. 150pm. Dont miss out!\n",
      "\n",
      "/////////////////////////////\n",
      "\n",
      "prediction: 1\n",
      "truth: 1\n",
      "message contains: I don't know u and u don't know me. Send CHAT to 86688 now and let's find each other! Only 150p/Msg rcvd. HG/Suite342/2Lands/Row/W1J6HL LDN. 18 years or over.\n",
      "\n",
      "/////////////////////////////\n",
      "\n",
      "prediction: 1\n",
      "truth: 1\n",
      "message contains: URGENT! We are trying to contact U. Todays draw shows that you have won a £2000 prize GUARANTEED. Call 09066358361 from land line. Claim Y87. Valid 12hrs only\n",
      "\n",
      "/////////////////////////////\n",
      "\n",
      "prediction: 1\n",
      "truth: 1\n",
      "message contains: You will recieve your tone within the next 24hrs. For Terms and conditions please see Channel U Teletext Pg 750\n",
      "\n",
      "/////////////////////////////\n",
      "\n",
      "prediction: 1\n",
      "truth: 1\n",
      "message contains: WIN a £200 Shopping spree every WEEK Starting NOW. 2 play text STORE to 88039. SkilGme. TsCs08714740323 1Winawk! age16 £1.50perweeksub.\n",
      "\n",
      "/////////////////////////////\n",
      "\n",
      "prediction: 1\n",
      "truth: 1\n",
      "message contains: URGENT! Your Mobile No was awarded a £2,000 Bonus Caller Prize on 1/08/03! This is our 2nd attempt to contact YOU! Call 0871-4719-523 BOX95QU BT National Rate\n",
      "\n",
      "/////////////////////////////\n",
      "\n"
     ]
    }
   ],
   "source": [
    "true_labels, predictions = make_predictions(model, df_test, batch_size=batch_size, threshold=0.5)"
   ]
  },
  {
   "cell_type": "markdown",
   "id": "6f2ed745",
   "metadata": {},
   "source": [
    "Матриця якості класифікації (test data):"
   ]
  },
  {
   "cell_type": "code",
   "execution_count": 209,
   "id": "2972c15a",
   "metadata": {},
   "outputs": [
    {
     "name": "stdout",
     "output_type": "stream",
     "text": [
      "              precision    recall  f1-score   support\n",
      "\n",
      "           0       0.96      0.96      0.96        26\n",
      "           1       0.96      0.96      0.96        24\n",
      "\n",
      "    accuracy                           0.96        50\n",
      "   macro avg       0.96      0.96      0.96        50\n",
      "weighted avg       0.96      0.96      0.96        50\n",
      "\n",
      "0.96\n"
     ]
    }
   ],
   "source": [
    "print(classification_report(true_labels, predictions))\n",
    "print(accuracy_score(true_labels, predictions))"
   ]
  },
  {
   "cell_type": "code",
   "execution_count": 44,
   "id": "5feebad9",
   "metadata": {},
   "outputs": [
    {
     "name": "stdout",
     "output_type": "stream",
     "text": [
      "prediction: 1\n",
      "truth: 1\n",
      "message contains: UR awarded a City Break and could WIN a £200 Summer Shopping spree every WK. Txt STORE to 88039.SkilGme.TsCs087147403231Winawk!Age16+£1.50perWKsub\n",
      "\n",
      "/////////////////////////////\n",
      "\n",
      "prediction: 1\n",
      "truth: 1\n",
      "message contains: Romantic Paris. 2 nights, 2 flights from £79 Book now 4 next year. Call 08704439680Ts&Cs apply.\n",
      "\n",
      "/////////////////////////////\n",
      "\n",
      "prediction: 1\n",
      "truth: 1\n",
      "message contains: For ur chance to win a £250 wkly shopping spree TXT: SHOP to 80878. T's&C's www.txt-2-shop.com custcare 08715705022, 1x150p/wk\n",
      "\n",
      "/////////////////////////////\n",
      "\n",
      "prediction: 1\n",
      "truth: 1\n",
      "message contains: PRIVATE! Your 2003 Account Statement for shows 800 un-redeemed S. I. M. points. Call 08719899230 Identifier Code: 41685 Expires 07/11/04\n",
      "\n",
      "/////////////////////////////\n",
      "\n",
      "prediction: 1\n",
      "truth: 1\n",
      "message contains: Welcome to UK-mobile-date this msg is FREE giving you free calling to 08719839835. Future mgs billed at 150p daily. To cancel send \"go stop\" to 89123\n",
      "\n",
      "/////////////////////////////\n",
      "\n",
      "prediction: 1\n",
      "truth: 1\n",
      "message contains: HMV BONUS SPECIAL 500 pounds of genuine HMV vouchers to be won. Just answer 4 easy questions. Play Now! Send HMV to 86688 More info:www.100percent-real.com\n",
      "\n",
      "/////////////////////////////\n",
      "\n",
      "prediction: 1\n",
      "truth: 1\n",
      "message contains: 08714712388 between 10am-7pm Cost 10p\n",
      "\n",
      "/////////////////////////////\n",
      "\n",
      "prediction: 1\n",
      "truth: 1\n",
      "message contains: Shop till u Drop, IS IT YOU, either 10K, 5K, £500 Cash or £100 Travel voucher, Call now, 09064011000. NTT PO Box CR01327BT fixedline Cost 150ppm mobile vary\n",
      "\n",
      "/////////////////////////////\n",
      "\n",
      "prediction: 1\n",
      "truth: 1\n",
      "message contains: Hope you enjoyed your new content. text stop to 61610 to unsubscribe. help:08712400602450p Provided by tones2you.co.uk\n",
      "\n",
      "/////////////////////////////\n",
      "\n",
      "prediction: 1\n",
      "truth: 1\n",
      "message contains: U have a secret admirer. REVEAL who thinks U R So special. Call 09065174042. To opt out Reply REVEAL STOP. 1.50 per msg recd. Cust care 07821230901\n",
      "\n",
      "/////////////////////////////\n",
      "\n"
     ]
    }
   ],
   "source": [
    "true_labels, predictions = make_predictions(model, df_train, batch_size=batch_size, threshold=0.5)"
   ]
  },
  {
   "cell_type": "markdown",
   "id": "a5266da0",
   "metadata": {},
   "source": [
    "Матриця якості класифікації (train data):"
   ]
  },
  {
   "cell_type": "code",
   "execution_count": 211,
   "id": "2c76cddc",
   "metadata": {},
   "outputs": [
    {
     "name": "stdout",
     "output_type": "stream",
     "text": [
      "              precision    recall  f1-score   support\n",
      "\n",
      "           0       1.00      1.00      1.00       375\n",
      "           1       1.00      1.00      1.00       395\n",
      "\n",
      "    accuracy                           1.00       770\n",
      "   macro avg       1.00      1.00      1.00       770\n",
      "weighted avg       1.00      1.00      1.00       770\n",
      "\n",
      "1.0\n"
     ]
    }
   ],
   "source": [
    "print(classification_report(true_labels, predictions))\n",
    "print(accuracy_score(true_labels, predictions))"
   ]
  },
  {
   "cell_type": "markdown",
   "id": "80cec036",
   "metadata": {},
   "source": [
    "100% точність на тренувальних даних може бути ознакою перенавчання.\n",
    "Модель надто добре адаптується до тренувальних даних і може не так ефективно генералізуватися на нові дані.\n",
    "Можна спробувати додати у модель компоненту довготривалої пам'яті LSTM та подивитись як це може вплинути на результати."
   ]
  },
  {
   "cell_type": "code",
   "execution_count": 45,
   "id": "e14ba200",
   "metadata": {},
   "outputs": [],
   "source": [
    "class BaseLSTM(nn.Module):\n",
    "    \n",
    "    def __init__(self, vocab_size, embedding_size, hidden_size):\n",
    "        super(self.__class__, self).__init__()\n",
    "\n",
    "        self.embedding = nn.Embedding(vocab_size, embedding_size)\n",
    "        self.lstm = nn.LSTM(input_size=embedding_size, \n",
    "                            hidden_size=hidden_size, \n",
    "                            num_layers=1, \n",
    "                            batch_first=True,\n",
    "                            bidirectional=True)\n",
    "        self.linear = nn.Linear(2 * hidden_size, 1)      \n",
    "        self.sigmoid = nn.Sigmoid()\n",
    "        \n",
    "        self.hidden_size = hidden_size\n",
    "        \n",
    "    def forward(self, x, sequences_lengths):\n",
    "        embedding = self.embedding(x)\n",
    "\n",
    "        pack = torch.nn.utils.rnn.pack_padded_sequence(\n",
    "            embedding, sequences_lengths, \n",
    "            batch_first=True, enforce_sorted=False\n",
    "        )\n",
    "        \n",
    "        packed_out, _ = self.lstm(pack)\n",
    "        out, _ = torch.nn.utils.rnn.pad_packed_sequence(\n",
    "            packed_out, batch_first=True\n",
    "        )\n",
    "        \n",
    "        out_fwd = out[range(len(out)), sequences_lengths - 1, :self.hidden_size]\n",
    "        out_rev = out[:, 0, self.hidden_size:]\n",
    "        out_red = torch.cat((out_fwd, out_rev), 1)\n",
    "        \n",
    "        from_linear = self.linear(out_red)\n",
    "        output = self.sigmoid(from_linear)\n",
    "        return output"
   ]
  },
  {
   "cell_type": "code",
   "execution_count": 46,
   "id": "d182cd37",
   "metadata": {},
   "outputs": [
    {
     "data": {
      "text/plain": [
       "BaseLSTM(\n",
       "  (embedding): Embedding(1416, 250)\n",
       "  (lstm): LSTM(250, 100, batch_first=True, bidirectional=True)\n",
       "  (linear): Linear(in_features=200, out_features=1, bias=True)\n",
       "  (sigmoid): Sigmoid()\n",
       ")"
      ]
     },
     "execution_count": 46,
     "metadata": {},
     "output_type": "execute_result"
    }
   ],
   "source": [
    "model = BaseLSTM(\n",
    "    vocab_size=len(vocabulary_main), embedding_size=250, hidden_size=100\n",
    ")\n",
    "model.to(device)"
   ]
  },
  {
   "cell_type": "code",
   "execution_count": 47,
   "id": "382b445b",
   "metadata": {},
   "outputs": [],
   "source": [
    "epoch_loss_values = []\n",
    "step_loss_values = []"
   ]
  },
  {
   "cell_type": "code",
   "execution_count": 48,
   "id": "ceaf6bcf",
   "metadata": {},
   "outputs": [],
   "source": [
    "loss_function = nn.BCELoss()\n",
    "optimizer = torch.optim.Adam(model.parameters(), lr=0.005)"
   ]
  },
  {
   "cell_type": "code",
   "execution_count": 49,
   "id": "919d708b",
   "metadata": {},
   "outputs": [],
   "source": [
    "batch_size = 50\n",
    "n_epochs = 50\n",
    "n_train = df_train.shape[0]\n",
    "n_iters = n_train // batch_size"
   ]
  },
  {
   "cell_type": "code",
   "execution_count": 50,
   "id": "2e259249",
   "metadata": {},
   "outputs": [],
   "source": [
    "n_tab = str(len(str(n_epochs)))"
   ]
  },
  {
   "cell_type": "code",
   "execution_count": 51,
   "id": "7962cecc",
   "metadata": {},
   "outputs": [
    {
     "name": "stdout",
     "output_type": "stream",
     "text": [
      "epoch  1: epoch_loss: 0.2124579006007739\n",
      "epoch  2: epoch_loss: 0.07855466274278505\n",
      "epoch  3: epoch_loss: 0.05671641031014068\n",
      "epoch  4: epoch_loss: 0.03282972388634725\n",
      "epoch  5: epoch_loss: 0.017458195831360563\n",
      "epoch  6: epoch_loss: 0.010487077624670098\n",
      "epoch  7: epoch_loss: 0.004182079241478018\n",
      "epoch  8: epoch_loss: 0.003435008996997827\n",
      "epoch  9: epoch_loss: 0.0012076652700281037\n",
      "epoch 10: epoch_loss: 0.001498935602804912\n",
      "epoch 11: epoch_loss: 0.0007908184634288772\n",
      "epoch 12: epoch_loss: 0.0004086740165283638\n",
      "epoch 13: epoch_loss: 0.0004525074670839656\n",
      "epoch 14: epoch_loss: 0.0003108373701771988\n",
      "epoch 15: epoch_loss: 0.0003211298457504849\n",
      "epoch 16: epoch_loss: 0.0002588239346680763\n",
      "epoch 17: epoch_loss: 0.00016395541076365456\n",
      "epoch 18: epoch_loss: 0.0001421858030101118\n",
      "epoch 19: epoch_loss: 0.0002047262751148082\n",
      "epoch 20: epoch_loss: 0.00013307827248354445\n",
      "epoch 21: epoch_loss: 0.00011355544640017407\n",
      "epoch 22: epoch_loss: 0.00012486378273024457\n",
      "epoch 23: epoch_loss: 0.00010237682402345984\n",
      "epoch 24: epoch_loss: 8.887417217400589e-05\n",
      "epoch 25: epoch_loss: 9.62311460170895e-05\n",
      "epoch 26: epoch_loss: 0.00011343094437117023\n",
      "epoch 27: epoch_loss: 7.669193616623359e-05\n",
      "epoch 28: epoch_loss: 0.00010458090036991054\n",
      "epoch 29: epoch_loss: 6.661750350238955e-05\n",
      "epoch 30: epoch_loss: 7.632146038564054e-05\n",
      "epoch 31: epoch_loss: 7.790604649926537e-05\n",
      "epoch 32: epoch_loss: 8.165776528455484e-05\n",
      "epoch 33: epoch_loss: 5.254323722121106e-05\n",
      "epoch 34: epoch_loss: 5.347255143663331e-05\n",
      "epoch 35: epoch_loss: 5.4958167051414176e-05\n",
      "epoch 36: epoch_loss: 3.512794085379158e-05\n",
      "epoch 37: epoch_loss: 4.179990784385674e-05\n",
      "epoch 38: epoch_loss: 5.329799452218659e-05\n",
      "epoch 39: epoch_loss: 3.3545265458607385e-05\n",
      "epoch 40: epoch_loss: 3.0407891634760225e-05\n",
      "epoch 41: epoch_loss: 4.1013353601166666e-05\n",
      "epoch 42: epoch_loss: 2.208758535614055e-05\n",
      "epoch 43: epoch_loss: 4.5772292131524796e-05\n",
      "epoch 44: epoch_loss: 2.9919852165351456e-05\n",
      "epoch 45: epoch_loss: 3.053721710395101e-05\n",
      "epoch 46: epoch_loss: 3.7635057651641546e-05\n",
      "epoch 47: epoch_loss: 3.630036371760071e-05\n",
      "epoch 48: epoch_loss: 4.0782352178731724e-05\n",
      "epoch 49: epoch_loss: 2.561021964148884e-05\n",
      "epoch 50: epoch_loss: 3.6904627644876845e-05\n"
     ]
    }
   ],
   "source": [
    "for epoch in range(n_epochs):\n",
    "    epoch_loss = 0 \n",
    "    \n",
    "    df_train_c = df_train.copy().sample(n_train).reset_index(drop=True)\n",
    "    \n",
    "    for step in range(n_iters):\n",
    "\n",
    "        optimizer.zero_grad()\n",
    "        idx = np.arange(0, batch_size, 1) + batch_size * step\n",
    "        current_batch = df_train_c.iloc[idx]\n",
    "\n",
    "        batch_idx, seq_lengths = vectorize(current_batch['Message_filtered'].tolist(), WORD_TO_IDX)\n",
    "        if any(length <= 0 for length in seq_lengths):\n",
    "            continue \n",
    "        seq_lengths = np.array(seq_lengths)\n",
    "        batch_idx = torch.tensor(batch_idx, dtype=torch.int64).to(device)\n",
    "        \n",
    "        y_true = current_batch['Category'].tolist() \n",
    "        y_true = torch.tensor(y_true, dtype=torch.float).to(device)\n",
    "\n",
    "        y_pred = model(batch_idx, seq_lengths)\n",
    "        \n",
    "        loss = loss_function(y_pred.squeeze(), y_true)\n",
    "        \n",
    "        step_loss_values.append(loss)\n",
    "\n",
    "        epoch_loss += loss.item() / n_iters\n",
    "        loss.backward()\n",
    "        optimizer.step()\n",
    "    \n",
    "    epoch_loss_values.append(epoch_loss)\n",
    "            \n",
    "    print(('epoch {:' + n_tab + '}: epoch_loss: {}').format(epoch+1, epoch_loss))  "
   ]
  },
  {
   "cell_type": "code",
   "execution_count": 219,
   "id": "084025cf",
   "metadata": {},
   "outputs": [
    {
     "data": {
      "image/png": "[encoded data removed]",
      "text/plain": [
       "<Figure size 640x480 with 1 Axes>"
      ]
     },
     "metadata": {},
     "output_type": "display_data"
    }
   ],
   "source": [
    "plt.plot(np.arange(1, n_epochs + 1), epoch_loss_values)\n",
    "plt.show()"
   ]
  },
  {
   "cell_type": "code",
   "execution_count": 52,
   "id": "dc87705b",
   "metadata": {},
   "outputs": [
    {
     "name": "stdout",
     "output_type": "stream",
     "text": [
      "prediction: 1\n",
      "truth: 1\n",
      "message contains: Collect your VALENTINE'S weekend to PARIS inc Flight & Hotel + £200 Prize guaranteed! Text: PARIS to No: 69101. www.rtf.sphosting.com\n",
      "\n",
      "/////////////////////////////\n",
      "\n",
      "prediction: 1\n",
      "truth: 1\n",
      "message contains: Boltblue tones for 150p Reply POLY# or MONO# eg POLY3 1. Cha Cha Slide 2. Yeah 3. Slow Jamz 6. Toxic 8. Come With Me or STOP 4 more tones txt MORE\n",
      "\n",
      "/////////////////////////////\n",
      "\n",
      "prediction: 1\n",
      "truth: 1\n",
      "message contains: Sppok up ur mob with a Halloween collection of nokia logo&pic message plus a FREE eerie tone, txt CARD SPOOK to 8007\n",
      "\n",
      "/////////////////////////////\n",
      "\n",
      "prediction: 1\n",
      "truth: 1\n",
      "message contains: Get 3 Lions England tone, reply lionm 4 mono or lionp 4 poly. 4 more go 2 www.ringtones.co.uk, the original n best. Tones 3GBP network operator rates apply\n",
      "\n",
      "/////////////////////////////\n",
      "\n",
      "prediction: 1\n",
      "truth: 1\n",
      "message contains: Congrats! 1 year special cinema pass for 2 is yours. call 09061209465 now! C Suprman V, Matrix3, StarWars3, etc all 4 FREE! bx420-ip4-5we. 150pm. Dont miss out!\n",
      "\n",
      "/////////////////////////////\n",
      "\n",
      "prediction: 1\n",
      "truth: 1\n",
      "message contains: I don't know u and u don't know me. Send CHAT to 86688 now and let's find each other! Only 150p/Msg rcvd. HG/Suite342/2Lands/Row/W1J6HL LDN. 18 years or over.\n",
      "\n",
      "/////////////////////////////\n",
      "\n",
      "prediction: 1\n",
      "truth: 1\n",
      "message contains: URGENT! We are trying to contact U. Todays draw shows that you have won a £2000 prize GUARANTEED. Call 09066358361 from land line. Claim Y87. Valid 12hrs only\n",
      "\n",
      "/////////////////////////////\n",
      "\n",
      "prediction: 1\n",
      "truth: 1\n",
      "message contains: You will recieve your tone within the next 24hrs. For Terms and conditions please see Channel U Teletext Pg 750\n",
      "\n",
      "/////////////////////////////\n",
      "\n",
      "prediction: 1\n",
      "truth: 1\n",
      "message contains: WIN a £200 Shopping spree every WEEK Starting NOW. 2 play text STORE to 88039. SkilGme. TsCs08714740323 1Winawk! age16 £1.50perweeksub.\n",
      "\n",
      "/////////////////////////////\n",
      "\n",
      "prediction: 1\n",
      "truth: 1\n",
      "message contains: URGENT! Your Mobile No was awarded a £2,000 Bonus Caller Prize on 1/08/03! This is our 2nd attempt to contact YOU! Call 0871-4719-523 BOX95QU BT National Rate\n",
      "\n",
      "/////////////////////////////\n",
      "\n"
     ]
    }
   ],
   "source": [
    "true_labels, predictions = make_predictions(model, df_test, batch_size=batch_size, threshold=0.5)"
   ]
  },
  {
   "cell_type": "code",
   "execution_count": 222,
   "id": "a0b39c7f",
   "metadata": {},
   "outputs": [
    {
     "name": "stdout",
     "output_type": "stream",
     "text": [
      "              precision    recall  f1-score   support\n",
      "\n",
      "           0       0.92      0.92      0.92        26\n",
      "           1       0.92      0.92      0.92        24\n",
      "\n",
      "    accuracy                           0.92        50\n",
      "   macro avg       0.92      0.92      0.92        50\n",
      "weighted avg       0.92      0.92      0.92        50\n",
      "\n",
      "0.92\n"
     ]
    }
   ],
   "source": [
    "print(classification_report(true_labels, predictions))\n",
    "print(accuracy_score(true_labels, predictions))"
   ]
  },
  {
   "cell_type": "code",
   "execution_count": 53,
   "id": "e5b2dc8b",
   "metadata": {},
   "outputs": [
    {
     "name": "stdout",
     "output_type": "stream",
     "text": [
      "prediction: 1\n",
      "truth: 1\n",
      "message contains: UR awarded a City Break and could WIN a £200 Summer Shopping spree every WK. Txt STORE to 88039.SkilGme.TsCs087147403231Winawk!Age16+£1.50perWKsub\n",
      "\n",
      "/////////////////////////////\n",
      "\n",
      "prediction: 1\n",
      "truth: 1\n",
      "message contains: Romantic Paris. 2 nights, 2 flights from £79 Book now 4 next year. Call 08704439680Ts&Cs apply.\n",
      "\n",
      "/////////////////////////////\n",
      "\n",
      "prediction: 1\n",
      "truth: 1\n",
      "message contains: For ur chance to win a £250 wkly shopping spree TXT: SHOP to 80878. T's&C's www.txt-2-shop.com custcare 08715705022, 1x150p/wk\n",
      "\n",
      "/////////////////////////////\n",
      "\n",
      "prediction: 1\n",
      "truth: 1\n",
      "message contains: PRIVATE! Your 2003 Account Statement for shows 800 un-redeemed S. I. M. points. Call 08719899230 Identifier Code: 41685 Expires 07/11/04\n",
      "\n",
      "/////////////////////////////\n",
      "\n",
      "prediction: 1\n",
      "truth: 1\n",
      "message contains: Welcome to UK-mobile-date this msg is FREE giving you free calling to 08719839835. Future mgs billed at 150p daily. To cancel send \"go stop\" to 89123\n",
      "\n",
      "/////////////////////////////\n",
      "\n",
      "prediction: 1\n",
      "truth: 1\n",
      "message contains: HMV BONUS SPECIAL 500 pounds of genuine HMV vouchers to be won. Just answer 4 easy questions. Play Now! Send HMV to 86688 More info:www.100percent-real.com\n",
      "\n",
      "/////////////////////////////\n",
      "\n",
      "prediction: 1\n",
      "truth: 1\n",
      "message contains: 08714712388 between 10am-7pm Cost 10p\n",
      "\n",
      "/////////////////////////////\n",
      "\n",
      "prediction: 1\n",
      "truth: 1\n",
      "message contains: Shop till u Drop, IS IT YOU, either 10K, 5K, £500 Cash or £100 Travel voucher, Call now, 09064011000. NTT PO Box CR01327BT fixedline Cost 150ppm mobile vary\n",
      "\n",
      "/////////////////////////////\n",
      "\n",
      "prediction: 1\n",
      "truth: 1\n",
      "message contains: Hope you enjoyed your new content. text stop to 61610 to unsubscribe. help:08712400602450p Provided by tones2you.co.uk\n",
      "\n",
      "/////////////////////////////\n",
      "\n",
      "prediction: 1\n",
      "truth: 1\n",
      "message contains: U have a secret admirer. REVEAL who thinks U R So special. Call 09065174042. To opt out Reply REVEAL STOP. 1.50 per msg recd. Cust care 07821230901\n",
      "\n",
      "/////////////////////////////\n",
      "\n"
     ]
    }
   ],
   "source": [
    "true_labels, predictions = make_predictions(model, df_train, batch_size=batch_size, threshold=0.5)"
   ]
  },
  {
   "cell_type": "code",
   "execution_count": 224,
   "id": "b74330f3",
   "metadata": {},
   "outputs": [
    {
     "name": "stdout",
     "output_type": "stream",
     "text": [
      "              precision    recall  f1-score   support\n",
      "\n",
      "           0       1.00      1.00      1.00       375\n",
      "           1       1.00      1.00      1.00       395\n",
      "\n",
      "    accuracy                           1.00       770\n",
      "   macro avg       1.00      1.00      1.00       770\n",
      "weighted avg       1.00      1.00      1.00       770\n",
      "\n",
      "1.0\n"
     ]
    }
   ],
   "source": [
    "print(classification_report(true_labels, predictions))\n",
    "print(accuracy_score(true_labels, predictions))"
   ]
  },
  {
   "cell_type": "markdown",
   "id": "5dc5dd12",
   "metadata": {},
   "source": [
    "Знов 100% точність на тренувальних даних (можливий overfitting). Також зменшилась точність на тестувальних даних. Негарна динаміка."
   ]
  },
  {
   "cell_type": "markdown",
   "id": "85ea064b",
   "metadata": {},
   "source": [
    "спробуємо скористатись вкладенням слів, що зробили люди з мільйонами доларів у гуглі в команді Томаша Міколова:\n",
    "#### word2vec"
   ]
  },
  {
   "cell_type": "code",
   "execution_count": 54,
   "id": "8ca60ad7",
   "metadata": {},
   "outputs": [],
   "source": [
    "df_sentences = df_train['Message_filtered'].tolist() + df_test['Message_filtered'].tolist()\n",
    "\n",
    "n_dim = 300\n",
    "\n",
    "lang_model = Word2Vec(sentences=df_sentences,\n",
    "                      vector_size=n_dim,\n",
    "                      min_count=5,\n",
    "                      window=5)"
   ]
  },
  {
   "cell_type": "code",
   "execution_count": 55,
   "id": "80b7d0f6",
   "metadata": {},
   "outputs": [
    {
     "data": {
      "text/plain": [
       "(394050, 608800)"
      ]
     },
     "execution_count": 55,
     "metadata": {},
     "output_type": "execute_result"
    }
   ],
   "source": [
    "lang_model.train(df_sentences, \n",
    "                 total_examples=lang_model.corpus_count,\n",
    "                 epochs=50)"
   ]
  },
  {
   "cell_type": "code",
   "execution_count": 56,
   "id": "2b94d7af",
   "metadata": {},
   "outputs": [],
   "source": [
    "W2V_IDX = lang_model.wv.key_to_index.copy()"
   ]
  },
  {
   "cell_type": "code",
   "execution_count": 253,
   "id": "49da4e4e",
   "metadata": {},
   "outputs": [
    {
     "data": {
      "text/plain": [
       "[('secret', 0.9530713558197021),\n",
       " ('looking', 0.9496530890464783),\n",
       " ('make', 0.9391587376594543),\n",
       " ('reveal', 0.9384656548500061),\n",
       " ('admirer', 0.9317489266395569),\n",
       " ('u-find', 0.9255936741828918),\n",
       " ('special-call', 0.9145146608352661),\n",
       " ('special', 0.7811849117279053),\n",
       " ('second', 0.7052447199821472),\n",
       " ('wil', 0.6782258749008179)]"
      ]
     },
     "execution_count": 253,
     "metadata": {},
     "output_type": "execute_result"
    }
   ],
   "source": [
    "lang_model.wv.most_similar('think')"
   ]
  },
  {
   "cell_type": "code",
   "execution_count": 254,
   "id": "11c20829",
   "metadata": {},
   "outputs": [
    {
     "data": {
      "text/plain": [
       "[('buy', 0.9275670647621155),\n",
       " ('angry', 0.9085258841514587),\n",
       " ('job', 0.9039337038993835),\n",
       " ('wen', 0.88893061876297),\n",
       " ('care', 0.8790623545646667),\n",
       " ('okay', 0.8705726861953735),\n",
       " ('hope', 0.869246780872345),\n",
       " ('really', 0.8679308891296387),\n",
       " ('hey', 0.8663870692253113),\n",
       " ('believe', 0.8633885383605957)]"
      ]
     },
     "execution_count": 254,
     "metadata": {},
     "output_type": "execute_result"
    }
   ],
   "source": [
    "lang_model.wv.most_similar('true')"
   ]
  },
  {
   "cell_type": "code",
   "execution_count": 255,
   "id": "3709352a",
   "metadata": {},
   "outputs": [
    {
     "data": {
      "text/plain": [
       "[('click', 0.9267894625663757),\n",
       " ('replying', 0.8642755746841431),\n",
       " ('next', 0.8542582988739014),\n",
       " ('crazy', 0.8459959030151367),\n",
       " ('themob', 0.8373398184776306),\n",
       " ('polys', 0.8293896913528442),\n",
       " ('wap', 0.8281345963478088),\n",
       " ('sound', 0.8209269046783447),\n",
       " ('sport', 0.8155875205993652),\n",
       " ('flag', 0.8134487271308899)]"
      ]
     },
     "execution_count": 255,
     "metadata": {},
     "output_type": "execute_result"
    }
   ],
   "source": [
    "lang_model.wv.most_similar('link')"
   ]
  },
  {
   "cell_type": "code",
   "execution_count": 256,
   "id": "b8f89b0a",
   "metadata": {},
   "outputs": [
    {
     "data": {
      "text/plain": [
       "[('mobile', 0.8753393888473511),\n",
       " ('colour', 0.8611534833908081),\n",
       " ('phone', 0.8405758142471313),\n",
       " ('entitled', 0.8387892246246338),\n",
       " ('update', 0.8387447595596313),\n",
       " ('latest', 0.8236472010612488),\n",
       " ('charge', 0.8229407668113708),\n",
       " ('flag', 0.8173990249633789),\n",
       " ('activate', 0.8161972761154175),\n",
       " ('unlimited', 0.8044788241386414)]"
      ]
     },
     "execution_count": 256,
     "metadata": {},
     "output_type": "execute_result"
    }
   ],
   "source": [
    "lang_model.wv.most_similar('free')"
   ]
  },
  {
   "cell_type": "code",
   "execution_count": 57,
   "id": "d122cee1",
   "metadata": {},
   "outputs": [
    {
     "name": "stdout",
     "output_type": "stream",
     "text": [
      "KeyedVectors<vector_size=300, 581 keys>\n"
     ]
    }
   ],
   "source": [
    "w2v_vectors = lang_model.wv\n",
    "print(w2v_vectors)"
   ]
  },
  {
   "cell_type": "code",
   "execution_count": 58,
   "id": "9ea6926d",
   "metadata": {},
   "outputs": [
    {
     "data": {
      "text/plain": [
       "(581, 300)"
      ]
     },
     "execution_count": 58,
     "metadata": {},
     "output_type": "execute_result"
    }
   ],
   "source": [
    "E_W2V = np.array([w2v_vectors[w] for w in w2v_vectors.key_to_index.keys()])\n",
    "E_W2V.shape"
   ]
  },
  {
   "cell_type": "code",
   "execution_count": 59,
   "id": "826e63ca",
   "metadata": {},
   "outputs": [],
   "source": [
    "class Word2VecLSTM(nn.Module):\n",
    "    \n",
    "    #конструктор для ініціалізації моделі\n",
    "    def __init__(self, embedding_matrix, hidden_size):\n",
    "        super(self.__class__, self).__init__()\n",
    "        #дістаємо розмір словника та розмір вбудовування з заданої матриці вбудовувань\n",
    "        self.vocab_size, self.embedding_size = embedding_matrix.shape\n",
    "        \n",
    "        #додавання шару вкладення слів з word2vec\n",
    "        self.embedding = nn.Embedding(self.vocab_size, self.embedding_size)\n",
    "        self.embedding.weight = torch.nn.Parameter(embedding_matrix)\n",
    "        self.embedding.weight.requires_grad = False\n",
    "        \n",
    "        #визначення розміру прихованого шару для LSTM\n",
    "        self.hidden_size = hidden_size\n",
    "        \n",
    "        #визначення двостороннього шару LSTM\n",
    "        self.lstm = nn.LSTM(input_size=self.embedding_size, \n",
    "                            hidden_size=self.hidden_size, \n",
    "                            num_layers=1, \n",
    "                            batch_first=True,\n",
    "                            bidirectional=True)\n",
    "        #визначає лінійного шару для вихідних даних\n",
    "        #розмір виходу встановлено в 1 для бінарної класифікації\n",
    "        self.linear = nn.Linear(2 * self.hidden_size, 1)     \n",
    "        #сигмоїдальна активація для бінарної класифікації\n",
    "        self.sigmoid = nn.Sigmoid()\n",
    "        \n",
    "    def forward(self, x, sequences_lengths):\n",
    "        #вкладення текстової послідовності \n",
    "        embedding = self.embedding(x)\n",
    "        \n",
    "        #упаковування заповненої послідовність для більш ефективнмх обчислень\n",
    "        pack = torch.nn.utils.rnn.pack_padded_sequence(\n",
    "            embedding, sequences_lengths, \n",
    "            batch_first=True, enforce_sorted=False\n",
    "        )\n",
    "        \n",
    "        #пропускаємо упаковану послідовність через двосторонній шар LSTM\n",
    "        packed_out, _ = self.lstm(pack)\n",
    "        #розпаковуємо упаковану послідовність\n",
    "        out, _ = torch.nn.utils.rnn.pad_packed_sequence(\n",
    "            packed_out, batch_first=True\n",
    "        )\n",
    "        #дістаємо останній прихований стан\n",
    "        out_fwd = out[range(len(out)), sequences_lengths - 1, :self.hidden_size]\n",
    "        #дістаємо перший прихований стан\n",
    "        out_rev = out[:, 0, self.hidden_size:]\n",
    "        #обʼєднуємо приховані стани\n",
    "        out_red = torch.cat((out_fwd, out_rev), 1)\n",
    "        #пропускаємо приховані стани через лінійний шар\n",
    "        from_linear = self.linear(out_red)\n",
    "        output = self.sigmoid(from_linear)\n",
    "        return output"
   ]
  },
  {
   "cell_type": "code",
   "execution_count": 60,
   "id": "9910a256",
   "metadata": {},
   "outputs": [
    {
     "data": {
      "text/plain": [
       "Word2VecLSTM(\n",
       "  (embedding): Embedding(581, 300)\n",
       "  (lstm): LSTM(300, 100, batch_first=True, bidirectional=True)\n",
       "  (linear): Linear(in_features=200, out_features=1, bias=True)\n",
       "  (sigmoid): Sigmoid()\n",
       ")"
      ]
     },
     "execution_count": 60,
     "metadata": {},
     "output_type": "execute_result"
    }
   ],
   "source": [
    "#ініціалізація моделі\n",
    "model = Word2VecLSTM(\n",
    "    embedding_matrix=torch.nn.Parameter(torch.from_numpy(E_W2V).float()).to(device), hidden_size=100\n",
    ")\n",
    "model.to(device)"
   ]
  },
  {
   "cell_type": "code",
   "execution_count": 61,
   "id": "fac00dbf",
   "metadata": {},
   "outputs": [],
   "source": [
    "epoch_loss_values = []\n",
    "step_loss_values = []"
   ]
  },
  {
   "cell_type": "code",
   "execution_count": 62,
   "id": "498a26f5",
   "metadata": {},
   "outputs": [],
   "source": [
    "loss_function = nn.BCELoss()\n",
    "optimizer = torch.optim.Adam(model.parameters(), lr=0.005)"
   ]
  },
  {
   "cell_type": "code",
   "execution_count": 63,
   "id": "db2048f4",
   "metadata": {},
   "outputs": [
    {
     "name": "stderr",
     "output_type": "stream",
     "text": [
      "/var/folders/4b/b3hx73cj4fzcm29xwvlsn2j80000gn/T/ipykernel_78591/708393883.py:2: SettingWithCopyWarning: \n",
      "A value is trying to be set on a copy of a slice from a DataFrame.\n",
      "Try using .loc[row_indexer,col_indexer] = value instead\n",
      "\n",
      "See the caveats in the documentation: https://pandas.pydata.org/pandas-docs/stable/user_guide/indexing.html#returning-a-view-versus-a-copy\n",
      "  df_test['Message_filtered_w2v'] = df_test['Message_modified'].apply(lambda u: sequence_cleaner(u, W2V_IDX.keys()))\n"
     ]
    }
   ],
   "source": [
    "df_train['Message_filtered_w2v'] = df_train['Message_modified'].apply(lambda u: sequence_cleaner(u, W2V_IDX.keys()))\n",
    "df_test['Message_filtered_w2v'] = df_test['Message_modified'].apply(lambda u: sequence_cleaner(u, W2V_IDX.keys()))"
   ]
  },
  {
   "cell_type": "code",
   "execution_count": 72,
   "id": "c9e625f0",
   "metadata": {},
   "outputs": [],
   "source": [
    "df_train = df_train[df_train['Message_filtered_w2v'].apply(lambda u: len(u)) != 0].reset_index(drop=True)"
   ]
  },
  {
   "cell_type": "code",
   "execution_count": 73,
   "id": "7651dbf0",
   "metadata": {},
   "outputs": [],
   "source": [
    "df_test = df_test[df_test['Message_filtered_w2v'].apply(lambda u: len(u)) != 0].reset_index(drop=True)"
   ]
  },
  {
   "cell_type": "code",
   "execution_count": 74,
   "id": "98ea7089",
   "metadata": {},
   "outputs": [],
   "source": [
    "batch_size = 50\n",
    "n_epochs = 50\n",
    "n_train = df_train.shape[0]"
   ]
  },
  {
   "cell_type": "code",
   "execution_count": 75,
   "id": "64e7589f",
   "metadata": {},
   "outputs": [],
   "source": [
    "#к-сть ітерацій за одну епоху\n",
    "n_iters = n_train // batch_size\n",
    "n_tab = str(len(str(n_epochs)))"
   ]
  },
  {
   "cell_type": "code",
   "execution_count": 76,
   "id": "d20b6b4a",
   "metadata": {},
   "outputs": [
    {
     "name": "stdout",
     "output_type": "stream",
     "text": [
      "epoch  1: epoch_loss: 0.16392453560339548\n",
      "epoch  2: epoch_loss: 0.13794622141202648\n",
      "epoch  3: epoch_loss: 0.157278657491718\n",
      "epoch  4: epoch_loss: 0.11623264742749077\n",
      "epoch  5: epoch_loss: 0.0947141486353108\n",
      "epoch  6: epoch_loss: 0.08278140921278723\n",
      "epoch  7: epoch_loss: 0.060656624047883904\n",
      "epoch  8: epoch_loss: 0.05027147349236266\n",
      "epoch  9: epoch_loss: 0.03533397026226989\n",
      "epoch 10: epoch_loss: 0.027531716373882124\n",
      "epoch 11: epoch_loss: 0.017755338547950878\n",
      "epoch 12: epoch_loss: 0.011251315000533526\n",
      "epoch 13: epoch_loss: 0.007408048101102137\n",
      "epoch 14: epoch_loss: 0.005832295257797731\n",
      "epoch 15: epoch_loss: 0.004445710564531119\n",
      "epoch 16: epoch_loss: 0.004526120603259186\n",
      "epoch 17: epoch_loss: 0.004189843937638216\n",
      "epoch 18: epoch_loss: 0.00387705396860838\n",
      "epoch 19: epoch_loss: 0.0038455761859950144\n",
      "epoch 20: epoch_loss: 0.003701476924886394\n",
      "epoch 21: epoch_loss: 0.004241120508855342\n",
      "epoch 22: epoch_loss: 0.003476053406432454\n",
      "epoch 23: epoch_loss: 0.003339854827832563\n",
      "epoch 24: epoch_loss: 0.0029550410966164365\n",
      "epoch 25: epoch_loss: 0.003311367540715895\n",
      "epoch 26: epoch_loss: 0.0032263722422222986\n",
      "epoch 27: epoch_loss: 0.003499356163436979\n",
      "epoch 28: epoch_loss: 0.0032179674531757226\n",
      "epoch 29: epoch_loss: 0.002946012875846853\n",
      "epoch 30: epoch_loss: 0.004844917592501068\n",
      "epoch 31: epoch_loss: 0.006079043023159363\n",
      "epoch 32: epoch_loss: 0.0029100651521990323\n",
      "epoch 33: epoch_loss: 0.0029082679739726052\n",
      "epoch 34: epoch_loss: 0.0028000602457853214\n",
      "epoch 35: epoch_loss: 0.002973795714621831\n",
      "epoch 36: epoch_loss: 0.0043099760626838755\n",
      "epoch 37: epoch_loss: 0.004457242693076425\n",
      "epoch 38: epoch_loss: 0.0036514742314466275\n",
      "epoch 39: epoch_loss: 0.0034499974153732182\n",
      "epoch 40: epoch_loss: 0.0026402260496719717\n",
      "epoch 41: epoch_loss: 0.0027958093279656683\n",
      "epoch 42: epoch_loss: 0.0028149297378539423\n",
      "epoch 43: epoch_loss: 0.0025754572174524312\n",
      "epoch 44: epoch_loss: 0.002787680884856465\n",
      "epoch 45: epoch_loss: 0.002577445967095367\n",
      "epoch 46: epoch_loss: 0.0029307452667645907\n",
      "epoch 47: epoch_loss: 0.002656408901527486\n",
      "epoch 48: epoch_loss: 0.0030183805064812725\n",
      "epoch 49: epoch_loss: 0.0027951633108906603\n",
      "epoch 50: epoch_loss: 0.0033406087296563255\n"
     ]
    }
   ],
   "source": [
    "residue = n_train - n_iters * batch_size\n",
    "\n",
    "for epoch in range(n_epochs):\n",
    "    epoch_loss = 0 \n",
    "    \n",
    "    df_train_c = df_train.copy().sample(n_train).reset_index(drop=True)\n",
    "    \n",
    "    for step in range(n_iters):\n",
    "\n",
    "        optimizer.zero_grad()\n",
    "        idx = np.arange(0, batch_size, 1) + batch_size * step\n",
    "        current_batch = df_train_c.iloc[idx]\n",
    "\n",
    "        batch_idx, seq_lengths = vectorize(current_batch['Message_filtered_w2v'].tolist(), W2V_IDX)\n",
    "        seq_lengths = np.array(seq_lengths)\n",
    "        if any(length <= 0 for length in seq_lengths):\n",
    "            continue \n",
    "        batch_idx = torch.tensor(batch_idx, dtype=torch.int64).to(device)\n",
    "       \n",
    "        \n",
    "        y_true = current_batch['Category'].tolist() \n",
    "        y_true = torch.tensor(y_true, dtype=torch.float).to(device)\n",
    "\n",
    "        y_pred = model(batch_idx, seq_lengths)\n",
    "        \n",
    "        loss = loss_function(y_pred.squeeze(), y_true)\n",
    "        \n",
    "        step_loss_values.append(loss)\n",
    "\n",
    "        epoch_loss += loss.item() / (n_iters + 1)\n",
    "        loss.backward()\n",
    "        optimizer.step()\n",
    "        \n",
    "    if residue > 0:\n",
    "        \n",
    "        optimizer.zero_grad()\n",
    "        \n",
    "        idx = np.arange(batch_size * step, n_train, 1)\n",
    "        current_batch = df_train_c.iloc[idx]\n",
    "\n",
    "        batch_idx, seq_lengths = vectorize(current_batch['Message_filtered_w2v'].tolist(), W2V_IDX)\n",
    "        seq_lengths = np.array(seq_lengths)\n",
    "        batch_idx = torch.tensor(batch_idx, dtype=torch.int64).to(device)\n",
    "        \n",
    "        y_true = current_batch['Category'].tolist() \n",
    "        y_true = torch.tensor(y_true, dtype=torch.float).to(device)\n",
    "\n",
    "        y_pred = model(batch_idx, seq_lengths)\n",
    "        \n",
    "        loss = loss_function(y_pred.squeeze(), y_true)\n",
    "        \n",
    "        step_loss_values.append(loss)\n",
    "\n",
    "        epoch_loss += loss.item() / (n_iters + 1)\n",
    "        loss.backward()\n",
    "        optimizer.step()        \n",
    "    \n",
    "    epoch_loss_values.append(epoch_loss)\n",
    "            \n",
    "    print(('epoch {:' + n_tab + '}: epoch_loss: {}').format(epoch+1, epoch_loss)) "
   ]
  },
  {
   "cell_type": "code",
   "execution_count": 273,
   "id": "7deff0c8",
   "metadata": {},
   "outputs": [
    {
     "data": {
      "image/png": "[encoded data removed]",
      "text/plain": [
       "<Figure size 640x480 with 1 Axes>"
      ]
     },
     "metadata": {},
     "output_type": "display_data"
    }
   ],
   "source": [
    "plt.plot(np.arange(1, n_epochs + 1), epoch_loss_values)\n",
    "plt.show()"
   ]
  },
  {
   "cell_type": "code",
   "execution_count": 77,
   "id": "45d09f9b",
   "metadata": {},
   "outputs": [],
   "source": [
    "def make_predictions_w2v(model, df_test, batch_size, threshold, prints_b = True): \n",
    "    global W2V_IDX\n",
    "    \n",
    "    n_prints = 0\n",
    "    predictions = []\n",
    "    true_labels = []\n",
    "    test_batches = split(df_test, batch_size)\n",
    "    \n",
    "    for batch in test_batches:\n",
    "        batch_ix, seq_lengths = vectorize(batch['Message_filtered'].tolist(), W2V_IDX)\n",
    "        seq_lengths = np.array(seq_lengths)\n",
    "        batch_ix = torch.tensor(batch_ix, dtype=torch.int64).to(device)\n",
    "\n",
    "        y_true = batch['Category'].tolist()\n",
    "\n",
    "        y_pred = model(batch_ix, seq_lengths).cpu().detach().squeeze().numpy()\n",
    "        y_pred = [int(pred.item() > threshold) for pred in y_pred]\n",
    "        \n",
    "        predictions.extend(y_pred)\n",
    "        true_labels.extend(y_true)\n",
    "        \n",
    "        if prints_b:\n",
    "            for true, pred, document in zip(y_true, y_pred, batch['Message']):\n",
    "                if true == 1.0 and n_prints < 10:\n",
    "                    print(\"prediction: {}\".format(pred))\n",
    "                    print(\"truth: {}\".format(true))\n",
    "                    print(\"message contains: {}\".format(document))\n",
    "                    print(\"\\n\" + \"/////////////////////////////\" + \"\\n\")\n",
    "                    n_prints += 1\n",
    "        \n",
    "    return true_labels, predictions"
   ]
  },
  {
   "cell_type": "code",
   "execution_count": 78,
   "id": "a54be264",
   "metadata": {},
   "outputs": [
    {
     "name": "stdout",
     "output_type": "stream",
     "text": [
      "prediction: 1\n",
      "truth: 1\n",
      "message contains: Collect your VALENTINE'S weekend to PARIS inc Flight & Hotel + £200 Prize guaranteed! Text: PARIS to No: 69101. www.rtf.sphosting.com\n",
      "\n",
      "/////////////////////////////\n",
      "\n",
      "prediction: 1\n",
      "truth: 1\n",
      "message contains: Boltblue tones for 150p Reply POLY# or MONO# eg POLY3 1. Cha Cha Slide 2. Yeah 3. Slow Jamz 6. Toxic 8. Come With Me or STOP 4 more tones txt MORE\n",
      "\n",
      "/////////////////////////////\n",
      "\n",
      "prediction: 1\n",
      "truth: 1\n",
      "message contains: Sppok up ur mob with a Halloween collection of nokia logo&pic message plus a FREE eerie tone, txt CARD SPOOK to 8007\n",
      "\n",
      "/////////////////////////////\n",
      "\n",
      "prediction: 1\n",
      "truth: 1\n",
      "message contains: Get 3 Lions England tone, reply lionm 4 mono or lionp 4 poly. 4 more go 2 www.ringtones.co.uk, the original n best. Tones 3GBP network operator rates apply\n",
      "\n",
      "/////////////////////////////\n",
      "\n",
      "prediction: 1\n",
      "truth: 1\n",
      "message contains: Congrats! 1 year special cinema pass for 2 is yours. call 09061209465 now! C Suprman V, Matrix3, StarWars3, etc all 4 FREE! bx420-ip4-5we. 150pm. Dont miss out!\n",
      "\n",
      "/////////////////////////////\n",
      "\n",
      "prediction: 1\n",
      "truth: 1\n",
      "message contains: I don't know u and u don't know me. Send CHAT to 86688 now and let's find each other! Only 150p/Msg rcvd. HG/Suite342/2Lands/Row/W1J6HL LDN. 18 years or over.\n",
      "\n",
      "/////////////////////////////\n",
      "\n",
      "prediction: 1\n",
      "truth: 1\n",
      "message contains: URGENT! We are trying to contact U. Todays draw shows that you have won a £2000 prize GUARANTEED. Call 09066358361 from land line. Claim Y87. Valid 12hrs only\n",
      "\n",
      "/////////////////////////////\n",
      "\n",
      "prediction: 1\n",
      "truth: 1\n",
      "message contains: You will recieve your tone within the next 24hrs. For Terms and conditions please see Channel U Teletext Pg 750\n",
      "\n",
      "/////////////////////////////\n",
      "\n",
      "prediction: 1\n",
      "truth: 1\n",
      "message contains: WIN a £200 Shopping spree every WEEK Starting NOW. 2 play text STORE to 88039. SkilGme. TsCs08714740323 1Winawk! age16 £1.50perweeksub.\n",
      "\n",
      "/////////////////////////////\n",
      "\n",
      "prediction: 1\n",
      "truth: 1\n",
      "message contains: URGENT! Your Mobile No was awarded a £2,000 Bonus Caller Prize on 1/08/03! This is our 2nd attempt to contact YOU! Call 0871-4719-523 BOX95QU BT National Rate\n",
      "\n",
      "/////////////////////////////\n",
      "\n"
     ]
    },
    {
     "name": "stderr",
     "output_type": "stream",
     "text": [
      "/opt/homebrew/lib/python3.10/site-packages/numpy/core/fromnumeric.py:57: FutureWarning: 'DataFrame.swapaxes' is deprecated and will be removed in a future version. Please use 'DataFrame.transpose' instead.\n",
      "  return bound(*args, **kwds)\n"
     ]
    }
   ],
   "source": [
    "true_labels, predictions = make_predictions_w2v(model, df_test, batch_size=batch_size, threshold=0.5)"
   ]
  },
  {
   "cell_type": "code",
   "execution_count": 278,
   "id": "1e71cc9f",
   "metadata": {},
   "outputs": [
    {
     "name": "stdout",
     "output_type": "stream",
     "text": [
      "              precision    recall  f1-score   support\n",
      "\n",
      "           0       1.00      0.61      0.75        33\n",
      "           1       0.75      1.00      0.86        39\n",
      "\n",
      "    accuracy                           0.82        72\n",
      "   macro avg       0.88      0.80      0.81        72\n",
      "weighted avg       0.86      0.82      0.81        72\n",
      "\n",
      "0.8194444444444444\n"
     ]
    }
   ],
   "source": [
    "print(classification_report(true_labels, predictions))\n",
    "print(accuracy_score(true_labels, predictions))"
   ]
  },
  {
   "cell_type": "code",
   "execution_count": 79,
   "id": "c9df887f",
   "metadata": {},
   "outputs": [
    {
     "name": "stdout",
     "output_type": "stream",
     "text": [
      "prediction: 1\n",
      "truth: 1\n",
      "message contains: UR awarded a City Break and could WIN a £200 Summer Shopping spree every WK. Txt STORE to 88039.SkilGme.TsCs087147403231Winawk!Age16+£1.50perWKsub\n",
      "\n",
      "/////////////////////////////\n",
      "\n",
      "prediction: 1\n",
      "truth: 1\n",
      "message contains: Romantic Paris. 2 nights, 2 flights from £79 Book now 4 next year. Call 08704439680Ts&Cs apply.\n",
      "\n",
      "/////////////////////////////\n",
      "\n",
      "prediction: 1\n",
      "truth: 1\n",
      "message contains: For ur chance to win a £250 wkly shopping spree TXT: SHOP to 80878. T's&C's www.txt-2-shop.com custcare 08715705022, 1x150p/wk\n",
      "\n",
      "/////////////////////////////\n",
      "\n",
      "prediction: 1\n",
      "truth: 1\n",
      "message contains: PRIVATE! Your 2003 Account Statement for shows 800 un-redeemed S. I. M. points. Call 08719899230 Identifier Code: 41685 Expires 07/11/04\n",
      "\n",
      "/////////////////////////////\n",
      "\n",
      "prediction: 1\n",
      "truth: 1\n",
      "message contains: Welcome to UK-mobile-date this msg is FREE giving you free calling to 08719839835. Future mgs billed at 150p daily. To cancel send \"go stop\" to 89123\n",
      "\n",
      "/////////////////////////////\n",
      "\n",
      "prediction: 1\n",
      "truth: 1\n",
      "message contains: HMV BONUS SPECIAL 500 pounds of genuine HMV vouchers to be won. Just answer 4 easy questions. Play Now! Send HMV to 86688 More info:www.100percent-real.com\n",
      "\n",
      "/////////////////////////////\n",
      "\n",
      "prediction: 1\n",
      "truth: 1\n",
      "message contains: 08714712388 between 10am-7pm Cost 10p\n",
      "\n",
      "/////////////////////////////\n",
      "\n",
      "prediction: 1\n",
      "truth: 1\n",
      "message contains: Shop till u Drop, IS IT YOU, either 10K, 5K, £500 Cash or £100 Travel voucher, Call now, 09064011000. NTT PO Box CR01327BT fixedline Cost 150ppm mobile vary\n",
      "\n",
      "/////////////////////////////\n",
      "\n",
      "prediction: 1\n",
      "truth: 1\n",
      "message contains: Hope you enjoyed your new content. text stop to 61610 to unsubscribe. help:08712400602450p Provided by tones2you.co.uk\n",
      "\n",
      "/////////////////////////////\n",
      "\n",
      "prediction: 1\n",
      "truth: 1\n",
      "message contains: U have a secret admirer. REVEAL who thinks U R So special. Call 09065174042. To opt out Reply REVEAL STOP. 1.50 per msg recd. Cust care 07821230901\n",
      "\n",
      "/////////////////////////////\n",
      "\n"
     ]
    }
   ],
   "source": [
    "true_labels, predictions = make_predictions_w2v(model, df_train, batch_size=batch_size, threshold=0.5)"
   ]
  },
  {
   "cell_type": "code",
   "execution_count": 280,
   "id": "7d5f13e0",
   "metadata": {},
   "outputs": [
    {
     "name": "stdout",
     "output_type": "stream",
     "text": [
      "              precision    recall  f1-score   support\n",
      "\n",
      "           0       1.00      0.61      0.76       657\n",
      "           1       0.74      1.00      0.85       702\n",
      "\n",
      "    accuracy                           0.81      1359\n",
      "   macro avg       0.87      0.81      0.80      1359\n",
      "weighted avg       0.86      0.81      0.81      1359\n",
      "\n",
      "0.8138337012509198\n"
     ]
    }
   ],
   "source": [
    "print(classification_report(true_labels, predictions))\n",
    "print(accuracy_score(true_labels, predictions))"
   ]
  },
  {
   "cell_type": "markdown",
   "id": "7fbfc87e",
   "metadata": {},
   "source": [
    "На тестових даних себе краще показувала модель з нашим кастомним вкладенням. \n",
    "Але була проблема у можливому overfitting на тренувальних даних.\n",
    "\n",
    "Модель з існуючим вкладенням не має оверфітінгу, але має меншу точність для тестових даних.\n",
    "\n",
    "Як висновок можна сказати, що краще брати існуючі інструменти і підлаштовувати їх під себе.\n",
    "Це швидше, тому \"дешевше\""
   ]
  },
  {
   "cell_type": "code",
   "execution_count": null,
   "id": "c9fffefc",
   "metadata": {},
   "outputs": [],
   "source": []
  }
 ],
 "metadata": {
  "kernelspec": {
   "display_name": "Python 3 (ipykernel)",
   "language": "python",
   "name": "python3"
  },
  "language_info": {
   "codemirror_mode": {
    "name": "ipython",
    "version": 3
   },
   "file_extension": ".py",
   "mimetype": "text/x-python",
   "name": "python",
   "nbconvert_exporter": "python",
   "pygments_lexer": "ipython3",
   "version": "3.10.9"
  }
 },
 "nbformat": 4,
 "nbformat_minor": 5
}
